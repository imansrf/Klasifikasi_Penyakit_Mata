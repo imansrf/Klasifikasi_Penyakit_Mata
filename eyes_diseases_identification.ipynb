{
  "nbformat": 4,
  "nbformat_minor": 0,
  "metadata": {
    "colab": {
      "name": "eyes_diseases_identification.ipynb",
      "provenance": []
    },
    "kernelspec": {
      "name": "python3",
      "display_name": "Python 3"
    },
    "accelerator": "GPU"
  },
  "cells": [
    {
      "cell_type": "code",
      "metadata": {
        "id": "8TQFyfdCSzvF",
        "outputId": "ac4ccd6c-236c-437a-d20f-a32b9ce3c356",
        "colab": {
          "base_uri": "https://localhost:8080/",
          "height": 34
        }
      },
      "source": [
        "from google.colab import drive\n",
        "drive.mount('/content/gdrive')"
      ],
      "execution_count": 1,
      "outputs": [
        {
          "output_type": "stream",
          "text": [
            "Mounted at /content/gdrive\n"
          ],
          "name": "stdout"
        }
      ]
    },
    {
      "cell_type": "code",
      "metadata": {
        "id": "hXs76d05S7h1"
      },
      "source": [
        "import matplotlib.pyplot as plt\n",
        "from sklearn.preprocessing import LabelEncoder\n",
        "import cv2\n",
        "from sklearn.model_selection import train_test_split\n",
        "from sklearn.utils import shuffle\n",
        "\n",
        "from tensorflow.keras.models import Sequential\n",
        "from tensorflow.keras.layers import Dense,Dropout,Flatten\n",
        "from tensorflow.keras.layers import Conv2D,MaxPool2D\n",
        "from tensorflow.keras.layers import Input, Dense\n",
        "from keras.utils import to_categorical\n",
        "from tensorflow.keras.models import Model\n",
        "from tensorflow.keras.preprocessing.image import ImageDataGenerator\n",
        "from sklearn.metrics import confusion_matrix\n",
        "import matplotlib.pyplot as plt\n",
        "\n",
        "from tensorflow.keras.applications.vgg16 import VGG16\n",
        "import pandas as pd\n",
        "import numpy as np\n",
        "import os\n",
        "from numpy import argmax"
      ],
      "execution_count": 2,
      "outputs": []
    },
    {
      "cell_type": "code",
      "metadata": {
        "id": "t-XOnqL0TFuq",
        "outputId": "986ce166-7c71-4c64-dc9b-591aa6ae4f12",
        "colab": {
          "base_uri": "https://localhost:8080/",
          "height": 34
        }
      },
      "source": [
        "PATH = \"gdrive/My Drive/Eye_diseases\"\n",
        "data_dir_list = os.listdir(PATH)\n",
        "data_dir_list"
      ],
      "execution_count": 3,
      "outputs": [
        {
          "output_type": "execute_result",
          "data": {
            "text/plain": [
              "['cataract', 'Bulging_eyes', 'Crossed_eyes', 'Glaucoma', 'Uveitis']"
            ]
          },
          "metadata": {
            "tags": []
          },
          "execution_count": 3
        }
      ]
    },
    {
      "cell_type": "code",
      "metadata": {
        "id": "KvJztH3cTU3o",
        "outputId": "af5fd0ea-f5da-4d29-f74a-1f0193c68c94",
        "colab": {
          "base_uri": "https://localhost:8080/",
          "height": 102
        }
      },
      "source": [
        "img_rows=224\n",
        "img_cols=224\n",
        "num_channel=3\n",
        "\n",
        "num_epoch = 50\n",
        "batch_size = 32\n",
        "\n",
        "img_data_list=[]\n",
        "classes_names_list=[]\n",
        "target_column=[]\n",
        "for dataset in data_dir_list:\n",
        "    classes_names_list.append(dataset)\n",
        "    print(\"Getting image from {} folder\".format(dataset))\n",
        "    img_list= os.listdir(PATH +\"/\"+ dataset)\n",
        "    for img in img_list:\n",
        "        input_img = cv2.imread(PATH +\"/\"+dataset+\"/\"+img)\n",
        "        input_img_resize=cv2.resize(input_img,(img_rows,img_cols))\n",
        "        img_data_list.append(input_img_resize)\n",
        "        target_column.append(dataset)"
      ],
      "execution_count": 4,
      "outputs": [
        {
          "output_type": "stream",
          "text": [
            "Getting image from cataract folder\n",
            "Getting image from Bulging_eyes folder\n",
            "Getting image from Crossed_eyes folder\n",
            "Getting image from Glaucoma folder\n",
            "Getting image from Uveitis folder\n"
          ],
          "name": "stdout"
        }
      ]
    },
    {
      "cell_type": "code",
      "metadata": {
        "id": "UbjEb4-mT9_N",
        "outputId": "013ccf0f-98cc-4494-c11b-89401cdfecd4",
        "colab": {
          "base_uri": "https://localhost:8080/",
          "height": 105
        }
      },
      "source": [
        "num_classes = len(classes_names_list)\n",
        "print(\"num_classes\",num_classes)\n",
        "img_data = np.array(img_data_list) # convert images in numpy array \n",
        "img_data = img_data.astype('float32')\n",
        "img_data /= 255\n",
        "print(\"Shape of image data\",img_data.shape)\n",
        "num_of_samples = img_data.shape[0]\n",
        "input_shape = img_data[0].shape \n",
        "print(\"number of samples\",num_of_samples)\n",
        "print(\"target column before encoding\",target_column)"
      ],
      "execution_count": 5,
      "outputs": [
        {
          "output_type": "stream",
          "text": [
            "num_classes 5\n",
            "Shape of image data (383, 224, 224, 3)\n",
            "number of samples 383\n",
            "target column before encoding ['cataract', 'cataract', 'cataract', 'cataract', 'cataract', 'cataract', 'cataract', 'cataract', 'cataract', 'cataract', 'cataract', 'cataract', 'cataract', 'cataract', 'cataract', 'cataract', 'cataract', 'cataract', 'cataract', 'cataract', 'cataract', 'cataract', 'cataract', 'cataract', 'cataract', 'cataract', 'cataract', 'cataract', 'cataract', 'cataract', 'cataract', 'cataract', 'cataract', 'cataract', 'cataract', 'cataract', 'cataract', 'cataract', 'cataract', 'cataract', 'cataract', 'cataract', 'cataract', 'cataract', 'cataract', 'cataract', 'cataract', 'Bulging_eyes', 'Bulging_eyes', 'Bulging_eyes', 'Bulging_eyes', 'Bulging_eyes', 'Bulging_eyes', 'Bulging_eyes', 'Bulging_eyes', 'Bulging_eyes', 'Bulging_eyes', 'Bulging_eyes', 'Bulging_eyes', 'Bulging_eyes', 'Bulging_eyes', 'Bulging_eyes', 'Bulging_eyes', 'Bulging_eyes', 'Bulging_eyes', 'Bulging_eyes', 'Bulging_eyes', 'Bulging_eyes', 'Bulging_eyes', 'Bulging_eyes', 'Bulging_eyes', 'Bulging_eyes', 'Bulging_eyes', 'Bulging_eyes', 'Bulging_eyes', 'Bulging_eyes', 'Bulging_eyes', 'Crossed_eyes', 'Crossed_eyes', 'Crossed_eyes', 'Crossed_eyes', 'Crossed_eyes', 'Crossed_eyes', 'Crossed_eyes', 'Crossed_eyes', 'Crossed_eyes', 'Crossed_eyes', 'Crossed_eyes', 'Crossed_eyes', 'Crossed_eyes', 'Crossed_eyes', 'Crossed_eyes', 'Crossed_eyes', 'Crossed_eyes', 'Crossed_eyes', 'Crossed_eyes', 'Crossed_eyes', 'Crossed_eyes', 'Crossed_eyes', 'Crossed_eyes', 'Crossed_eyes', 'Crossed_eyes', 'Crossed_eyes', 'Crossed_eyes', 'Crossed_eyes', 'Crossed_eyes', 'Crossed_eyes', 'Crossed_eyes', 'Crossed_eyes', 'Crossed_eyes', 'Crossed_eyes', 'Crossed_eyes', 'Crossed_eyes', 'Crossed_eyes', 'Crossed_eyes', 'Crossed_eyes', 'Crossed_eyes', 'Crossed_eyes', 'Crossed_eyes', 'Crossed_eyes', 'Crossed_eyes', 'Crossed_eyes', 'Crossed_eyes', 'Crossed_eyes', 'Crossed_eyes', 'Crossed_eyes', 'Crossed_eyes', 'Crossed_eyes', 'Crossed_eyes', 'Crossed_eyes', 'Crossed_eyes', 'Crossed_eyes', 'Crossed_eyes', 'Crossed_eyes', 'Crossed_eyes', 'Crossed_eyes', 'Crossed_eyes', 'Crossed_eyes', 'Crossed_eyes', 'Crossed_eyes', 'Crossed_eyes', 'Crossed_eyes', 'Crossed_eyes', 'Crossed_eyes', 'Crossed_eyes', 'Crossed_eyes', 'Crossed_eyes', 'Crossed_eyes', 'Crossed_eyes', 'Crossed_eyes', 'Crossed_eyes', 'Crossed_eyes', 'Crossed_eyes', 'Crossed_eyes', 'Crossed_eyes', 'Crossed_eyes', 'Crossed_eyes', 'Crossed_eyes', 'Crossed_eyes', 'Crossed_eyes', 'Crossed_eyes', 'Crossed_eyes', 'Crossed_eyes', 'Crossed_eyes', 'Crossed_eyes', 'Crossed_eyes', 'Crossed_eyes', 'Crossed_eyes', 'Crossed_eyes', 'Crossed_eyes', 'Crossed_eyes', 'Crossed_eyes', 'Crossed_eyes', 'Crossed_eyes', 'Crossed_eyes', 'Crossed_eyes', 'Crossed_eyes', 'Crossed_eyes', 'Crossed_eyes', 'Crossed_eyes', 'Crossed_eyes', 'Crossed_eyes', 'Crossed_eyes', 'Crossed_eyes', 'Crossed_eyes', 'Crossed_eyes', 'Crossed_eyes', 'Crossed_eyes', 'Crossed_eyes', 'Crossed_eyes', 'Crossed_eyes', 'Crossed_eyes', 'Crossed_eyes', 'Crossed_eyes', 'Crossed_eyes', 'Crossed_eyes', 'Crossed_eyes', 'Crossed_eyes', 'Crossed_eyes', 'Crossed_eyes', 'Crossed_eyes', 'Crossed_eyes', 'Crossed_eyes', 'Crossed_eyes', 'Crossed_eyes', 'Crossed_eyes', 'Crossed_eyes', 'Crossed_eyes', 'Crossed_eyes', 'Crossed_eyes', 'Crossed_eyes', 'Crossed_eyes', 'Crossed_eyes', 'Crossed_eyes', 'Crossed_eyes', 'Crossed_eyes', 'Crossed_eyes', 'Crossed_eyes', 'Crossed_eyes', 'Crossed_eyes', 'Crossed_eyes', 'Crossed_eyes', 'Crossed_eyes', 'Crossed_eyes', 'Crossed_eyes', 'Crossed_eyes', 'Crossed_eyes', 'Crossed_eyes', 'Crossed_eyes', 'Crossed_eyes', 'Crossed_eyes', 'Crossed_eyes', 'Crossed_eyes', 'Crossed_eyes', 'Crossed_eyes', 'Crossed_eyes', 'Crossed_eyes', 'Crossed_eyes', 'Crossed_eyes', 'Crossed_eyes', 'Crossed_eyes', 'Crossed_eyes', 'Crossed_eyes', 'Crossed_eyes', 'Crossed_eyes', 'Crossed_eyes', 'Crossed_eyes', 'Crossed_eyes', 'Crossed_eyes', 'Crossed_eyes', 'Crossed_eyes', 'Glaucoma', 'Glaucoma', 'Glaucoma', 'Glaucoma', 'Glaucoma', 'Glaucoma', 'Glaucoma', 'Glaucoma', 'Glaucoma', 'Glaucoma', 'Glaucoma', 'Glaucoma', 'Glaucoma', 'Glaucoma', 'Glaucoma', 'Glaucoma', 'Glaucoma', 'Glaucoma', 'Glaucoma', 'Glaucoma', 'Glaucoma', 'Glaucoma', 'Glaucoma', 'Glaucoma', 'Glaucoma', 'Glaucoma', 'Glaucoma', 'Glaucoma', 'Glaucoma', 'Glaucoma', 'Glaucoma', 'Glaucoma', 'Glaucoma', 'Glaucoma', 'Glaucoma', 'Glaucoma', 'Glaucoma', 'Glaucoma', 'Glaucoma', 'Glaucoma', 'Glaucoma', 'Glaucoma', 'Glaucoma', 'Glaucoma', 'Glaucoma', 'Glaucoma', 'Glaucoma', 'Glaucoma', 'Glaucoma', 'Glaucoma', 'Glaucoma', 'Glaucoma', 'Glaucoma', 'Glaucoma', 'Glaucoma', 'Glaucoma', 'Glaucoma', 'Glaucoma', 'Glaucoma', 'Glaucoma', 'Glaucoma', 'Glaucoma', 'Glaucoma', 'Glaucoma', 'Glaucoma', 'Glaucoma', 'Glaucoma', 'Glaucoma', 'Glaucoma', 'Glaucoma', 'Glaucoma', 'Glaucoma', 'Glaucoma', 'Glaucoma', 'Glaucoma', 'Glaucoma', 'Glaucoma', 'Glaucoma', 'Glaucoma', 'Glaucoma', 'Glaucoma', 'Glaucoma', 'Uveitis', 'Uveitis', 'Uveitis', 'Uveitis', 'Uveitis', 'Uveitis', 'Uveitis', 'Uveitis', 'Uveitis', 'Uveitis', 'Uveitis', 'Uveitis', 'Uveitis', 'Uveitis', 'Uveitis', 'Uveitis', 'Uveitis', 'Uveitis', 'Uveitis', 'Uveitis', 'Uveitis', 'Uveitis', 'Uveitis', 'Uveitis', 'Uveitis', 'Uveitis', 'Uveitis', 'Uveitis', 'Uveitis', 'Uveitis', 'Uveitis', 'Uveitis', 'Uveitis', 'Uveitis', 'Uveitis', 'Uveitis', 'Uveitis', 'Uveitis', 'Uveitis', 'Uveitis', 'Uveitis', 'Uveitis', 'Uveitis', 'Uveitis', 'Uveitis', 'Uveitis', 'Uveitis', 'Uveitis', 'Uveitis', 'Uveitis']\n"
          ],
          "name": "stdout"
        }
      ]
    },
    {
      "cell_type": "code",
      "metadata": {
        "id": "rUF8wccgUDXq",
        "outputId": "9f39be20-623b-4c14-c973-fbaec6819cbf",
        "colab": {
          "base_uri": "https://localhost:8080/",
          "height": 34
        }
      },
      "source": [
        "Labelencoder = LabelEncoder()\n",
        "target_column = Labelencoder.fit_transform(target_column)\n",
        "np.unique(target_column)"
      ],
      "execution_count": 6,
      "outputs": [
        {
          "output_type": "execute_result",
          "data": {
            "text/plain": [
              "array([0, 1, 2, 3, 4])"
            ]
          },
          "metadata": {
            "tags": []
          },
          "execution_count": 6
        }
      ]
    },
    {
      "cell_type": "code",
      "metadata": {
        "id": "vjVDCNsyUIwv",
        "outputId": "2437b81b-dc5e-4ebb-df1c-5652919681b2",
        "colab": {
          "base_uri": "https://localhost:8080/",
          "height": 323
        }
      },
      "source": [
        "target_column"
      ],
      "execution_count": 7,
      "outputs": [
        {
          "output_type": "execute_result",
          "data": {
            "text/plain": [
              "array([4, 4, 4, 4, 4, 4, 4, 4, 4, 4, 4, 4, 4, 4, 4, 4, 4, 4, 4, 4, 4, 4,\n",
              "       4, 4, 4, 4, 4, 4, 4, 4, 4, 4, 4, 4, 4, 4, 4, 4, 4, 4, 4, 4, 4, 4,\n",
              "       4, 4, 4, 0, 0, 0, 0, 0, 0, 0, 0, 0, 0, 0, 0, 0, 0, 0, 0, 0, 0, 0,\n",
              "       0, 0, 0, 0, 0, 0, 0, 0, 0, 0, 0, 1, 1, 1, 1, 1, 1, 1, 1, 1, 1, 1,\n",
              "       1, 1, 1, 1, 1, 1, 1, 1, 1, 1, 1, 1, 1, 1, 1, 1, 1, 1, 1, 1, 1, 1,\n",
              "       1, 1, 1, 1, 1, 1, 1, 1, 1, 1, 1, 1, 1, 1, 1, 1, 1, 1, 1, 1, 1, 1,\n",
              "       1, 1, 1, 1, 1, 1, 1, 1, 1, 1, 1, 1, 1, 1, 1, 1, 1, 1, 1, 1, 1, 1,\n",
              "       1, 1, 1, 1, 1, 1, 1, 1, 1, 1, 1, 1, 1, 1, 1, 1, 1, 1, 1, 1, 1, 1,\n",
              "       1, 1, 1, 1, 1, 1, 1, 1, 1, 1, 1, 1, 1, 1, 1, 1, 1, 1, 1, 1, 1, 1,\n",
              "       1, 1, 1, 1, 1, 1, 1, 1, 1, 1, 1, 1, 1, 1, 1, 1, 1, 1, 1, 1, 1, 1,\n",
              "       1, 1, 1, 1, 1, 1, 1, 1, 1, 1, 1, 1, 1, 1, 1, 1, 1, 1, 1, 1, 1, 1,\n",
              "       1, 1, 1, 1, 1, 1, 1, 1, 1, 2, 2, 2, 2, 2, 2, 2, 2, 2, 2, 2, 2, 2,\n",
              "       2, 2, 2, 2, 2, 2, 2, 2, 2, 2, 2, 2, 2, 2, 2, 2, 2, 2, 2, 2, 2, 2,\n",
              "       2, 2, 2, 2, 2, 2, 2, 2, 2, 2, 2, 2, 2, 2, 2, 2, 2, 2, 2, 2, 2, 2,\n",
              "       2, 2, 2, 2, 2, 2, 2, 2, 2, 2, 2, 2, 2, 2, 2, 2, 2, 2, 2, 2, 2, 2,\n",
              "       2, 2, 2, 3, 3, 3, 3, 3, 3, 3, 3, 3, 3, 3, 3, 3, 3, 3, 3, 3, 3, 3,\n",
              "       3, 3, 3, 3, 3, 3, 3, 3, 3, 3, 3, 3, 3, 3, 3, 3, 3, 3, 3, 3, 3, 3,\n",
              "       3, 3, 3, 3, 3, 3, 3, 3, 3])"
            ]
          },
          "metadata": {
            "tags": []
          },
          "execution_count": 7
        }
      ]
    },
    {
      "cell_type": "code",
      "metadata": {
        "id": "iBX1zlhIUM7-"
      },
      "source": [
        "target_column_hotcoded = to_categorical(target_column,num_classes)\n",
        "X,Y = shuffle(img_data,target_column_hotcoded,random_state=2)\n",
        "X_train,X_temp,y_train,y_temp = train_test_split(X,Y,test_size=0.3,random_state=2)\n",
        "X_test,X_val,y_test,y_val = train_test_split(X_temp,y_temp,test_size=0.3,random_state=2)"
      ],
      "execution_count": 8,
      "outputs": []
    },
    {
      "cell_type": "code",
      "metadata": {
        "id": "F5DeNrt5UcK2",
        "outputId": "6bfd8c73-e684-4016-b0d7-9c633a39a68d",
        "colab": {
          "base_uri": "https://localhost:8080/",
          "height": 561
        }
      },
      "source": [
        "first_Mod = Sequential()\n",
        "first_Mod.add(Conv2D(64,(3,3),activation='relu',input_shape=input_shape))\n",
        "first_Mod.add(Conv2D(64,(3,3),activation='relu'))\n",
        "first_Mod.add(MaxPool2D(pool_size=(2,2)))\n",
        "first_Mod.add(Dropout(0.2))\n",
        "\n",
        "first_Mod.add(Conv2D(128,(3,3),activation='relu'))\n",
        "first_Mod.add(Conv2D(128,(3,3),activation='relu'))\n",
        "first_Mod.add(MaxPool2D(pool_size=(2,2)))\n",
        "first_Mod.add(Dropout(0.2))\n",
        "\n",
        "first_Mod.add(Flatten())\n",
        "first_Mod.add(Dense(128,activation='relu'))\n",
        "first_Mod.add(Dropout(0.2))\n",
        "first_Mod.add(Dense(num_classes,activation='softmax'))\n",
        "first_Mod.compile(loss='categorical_crossentropy',optimizer='adam',metrics=['accuracy'])\n",
        "\n",
        "first_Mod.summary()"
      ],
      "execution_count": 9,
      "outputs": [
        {
          "output_type": "stream",
          "text": [
            "Model: \"sequential\"\n",
            "_________________________________________________________________\n",
            "Layer (type)                 Output Shape              Param #   \n",
            "=================================================================\n",
            "conv2d (Conv2D)              (None, 222, 222, 64)      1792      \n",
            "_________________________________________________________________\n",
            "conv2d_1 (Conv2D)            (None, 220, 220, 64)      36928     \n",
            "_________________________________________________________________\n",
            "max_pooling2d (MaxPooling2D) (None, 110, 110, 64)      0         \n",
            "_________________________________________________________________\n",
            "dropout (Dropout)            (None, 110, 110, 64)      0         \n",
            "_________________________________________________________________\n",
            "conv2d_2 (Conv2D)            (None, 108, 108, 128)     73856     \n",
            "_________________________________________________________________\n",
            "conv2d_3 (Conv2D)            (None, 106, 106, 128)     147584    \n",
            "_________________________________________________________________\n",
            "max_pooling2d_1 (MaxPooling2 (None, 53, 53, 128)       0         \n",
            "_________________________________________________________________\n",
            "dropout_1 (Dropout)          (None, 53, 53, 128)       0         \n",
            "_________________________________________________________________\n",
            "flatten (Flatten)            (None, 359552)            0         \n",
            "_________________________________________________________________\n",
            "dense (Dense)                (None, 128)               46022784  \n",
            "_________________________________________________________________\n",
            "dropout_2 (Dropout)          (None, 128)               0         \n",
            "_________________________________________________________________\n",
            "dense_1 (Dense)              (None, 5)                 645       \n",
            "=================================================================\n",
            "Total params: 46,283,589\n",
            "Trainable params: 46,283,589\n",
            "Non-trainable params: 0\n",
            "_________________________________________________________________\n"
          ],
          "name": "stdout"
        }
      ]
    },
    {
      "cell_type": "code",
      "metadata": {
        "id": "Tyk2bccjUoXj",
        "outputId": "28bb7521-dc8e-4399-816b-c0ee5396bb1a",
        "colab": {
          "base_uri": "https://localhost:8080/",
          "height": 1000
        }
      },
      "source": [
        "hist = first_Mod.fit(X_train,y_train,batch_size=batch_size,epochs=num_epoch,verbose=1,validation_data=(X_test,y_test))\n",
        "score = first_Mod.evaluate(X_test,y_test,batch_size=batch_size)\n",
        "print('Test Loss',score[0])\n",
        "print(\"Test Accuracy\",score[1])"
      ],
      "execution_count": 10,
      "outputs": [
        {
          "output_type": "stream",
          "text": [
            "Epoch 1/50\n",
            "2/9 [=====>........................] - ETA: 1s - loss: 37.2602 - accuracy: 0.3750WARNING:tensorflow:Callbacks method `on_train_batch_end` is slow compared to the batch time (batch time: 0.0976s vs `on_train_batch_end` time: 0.2002s). Check your callbacks.\n",
            "9/9 [==============================] - 4s 470ms/step - loss: 11.3507 - accuracy: 0.3955 - val_loss: 1.6938 - val_accuracy: 0.4500\n",
            "Epoch 2/50\n",
            "9/9 [==============================] - 3s 287ms/step - loss: 1.4941 - accuracy: 0.4478 - val_loss: 1.4559 - val_accuracy: 0.4500\n",
            "Epoch 3/50\n",
            "9/9 [==============================] - 3s 287ms/step - loss: 1.3935 - accuracy: 0.4627 - val_loss: 1.4569 - val_accuracy: 0.4500\n",
            "Epoch 4/50\n",
            "9/9 [==============================] - 3s 287ms/step - loss: 1.3655 - accuracy: 0.4664 - val_loss: 1.4323 - val_accuracy: 0.4500\n",
            "Epoch 5/50\n",
            "9/9 [==============================] - 3s 287ms/step - loss: 1.3960 - accuracy: 0.4291 - val_loss: 1.4514 - val_accuracy: 0.4500\n",
            "Epoch 6/50\n",
            "9/9 [==============================] - 3s 287ms/step - loss: 1.3751 - accuracy: 0.4664 - val_loss: 1.4269 - val_accuracy: 0.4500\n",
            "Epoch 7/50\n",
            "9/9 [==============================] - 3s 286ms/step - loss: 1.3319 - accuracy: 0.4701 - val_loss: 1.4430 - val_accuracy: 0.4375\n",
            "Epoch 8/50\n",
            "9/9 [==============================] - 3s 285ms/step - loss: 1.3183 - accuracy: 0.4478 - val_loss: 1.4746 - val_accuracy: 0.3875\n",
            "Epoch 9/50\n",
            "9/9 [==============================] - 3s 285ms/step - loss: 1.2612 - accuracy: 0.4478 - val_loss: 1.5117 - val_accuracy: 0.4125\n",
            "Epoch 10/50\n",
            "9/9 [==============================] - 3s 287ms/step - loss: 1.2812 - accuracy: 0.3993 - val_loss: 1.5106 - val_accuracy: 0.4250\n",
            "Epoch 11/50\n",
            "9/9 [==============================] - 3s 287ms/step - loss: 1.2591 - accuracy: 0.4627 - val_loss: 1.4498 - val_accuracy: 0.4000\n",
            "Epoch 12/50\n",
            "9/9 [==============================] - 3s 286ms/step - loss: 1.2305 - accuracy: 0.4515 - val_loss: 1.4815 - val_accuracy: 0.3750\n",
            "Epoch 13/50\n",
            "9/9 [==============================] - 3s 287ms/step - loss: 1.1718 - accuracy: 0.4851 - val_loss: 1.4708 - val_accuracy: 0.4250\n",
            "Epoch 14/50\n",
            "9/9 [==============================] - 3s 287ms/step - loss: 1.1475 - accuracy: 0.4888 - val_loss: 1.6412 - val_accuracy: 0.4125\n",
            "Epoch 15/50\n",
            "9/9 [==============================] - 3s 285ms/step - loss: 1.1296 - accuracy: 0.4963 - val_loss: 1.6139 - val_accuracy: 0.4125\n",
            "Epoch 16/50\n",
            "9/9 [==============================] - 3s 288ms/step - loss: 1.1392 - accuracy: 0.5597 - val_loss: 1.5199 - val_accuracy: 0.4125\n",
            "Epoch 17/50\n",
            "9/9 [==============================] - 3s 286ms/step - loss: 1.1037 - accuracy: 0.5448 - val_loss: 1.6555 - val_accuracy: 0.3625\n",
            "Epoch 18/50\n",
            "9/9 [==============================] - 3s 286ms/step - loss: 1.0863 - accuracy: 0.5970 - val_loss: 1.6233 - val_accuracy: 0.4000\n",
            "Epoch 19/50\n",
            "9/9 [==============================] - 3s 286ms/step - loss: 1.0591 - accuracy: 0.5970 - val_loss: 1.8009 - val_accuracy: 0.4250\n",
            "Epoch 20/50\n",
            "9/9 [==============================] - 3s 287ms/step - loss: 0.9899 - accuracy: 0.5672 - val_loss: 1.7052 - val_accuracy: 0.4250\n",
            "Epoch 21/50\n",
            "9/9 [==============================] - 3s 285ms/step - loss: 0.9072 - accuracy: 0.6455 - val_loss: 1.9723 - val_accuracy: 0.4500\n",
            "Epoch 22/50\n",
            "9/9 [==============================] - 3s 288ms/step - loss: 0.9611 - accuracy: 0.5858 - val_loss: 2.2438 - val_accuracy: 0.4500\n",
            "Epoch 23/50\n",
            "9/9 [==============================] - 3s 285ms/step - loss: 0.8779 - accuracy: 0.6604 - val_loss: 1.9784 - val_accuracy: 0.4125\n",
            "Epoch 24/50\n",
            "9/9 [==============================] - 3s 286ms/step - loss: 0.7503 - accuracy: 0.6903 - val_loss: 1.9314 - val_accuracy: 0.4000\n",
            "Epoch 25/50\n",
            "9/9 [==============================] - 3s 287ms/step - loss: 0.7927 - accuracy: 0.6493 - val_loss: 1.9952 - val_accuracy: 0.4375\n",
            "Epoch 26/50\n",
            "9/9 [==============================] - 3s 286ms/step - loss: 0.6942 - accuracy: 0.7500 - val_loss: 2.0798 - val_accuracy: 0.4750\n",
            "Epoch 27/50\n",
            "9/9 [==============================] - 3s 286ms/step - loss: 0.6087 - accuracy: 0.7873 - val_loss: 2.1795 - val_accuracy: 0.4250\n",
            "Epoch 28/50\n",
            "9/9 [==============================] - 3s 285ms/step - loss: 0.4781 - accuracy: 0.8619 - val_loss: 3.1786 - val_accuracy: 0.4375\n",
            "Epoch 29/50\n",
            "9/9 [==============================] - 3s 287ms/step - loss: 0.3354 - accuracy: 0.8769 - val_loss: 3.0624 - val_accuracy: 0.4375\n",
            "Epoch 30/50\n",
            "9/9 [==============================] - 3s 288ms/step - loss: 0.2682 - accuracy: 0.9030 - val_loss: 3.5269 - val_accuracy: 0.4500\n",
            "Epoch 31/50\n",
            "9/9 [==============================] - 3s 288ms/step - loss: 0.1536 - accuracy: 0.9515 - val_loss: 4.5369 - val_accuracy: 0.4750\n",
            "Epoch 32/50\n",
            "9/9 [==============================] - 3s 287ms/step - loss: 0.1148 - accuracy: 0.9590 - val_loss: 4.6109 - val_accuracy: 0.4750\n",
            "Epoch 33/50\n",
            "9/9 [==============================] - 3s 285ms/step - loss: 0.1445 - accuracy: 0.9590 - val_loss: 4.4994 - val_accuracy: 0.4375\n",
            "Epoch 34/50\n",
            "9/9 [==============================] - 3s 289ms/step - loss: 0.1363 - accuracy: 0.9664 - val_loss: 3.7778 - val_accuracy: 0.4625\n",
            "Epoch 35/50\n",
            "9/9 [==============================] - 3s 287ms/step - loss: 0.1558 - accuracy: 0.9627 - val_loss: 4.2647 - val_accuracy: 0.4500\n",
            "Epoch 36/50\n",
            "9/9 [==============================] - 3s 287ms/step - loss: 0.1798 - accuracy: 0.9813 - val_loss: 4.5103 - val_accuracy: 0.4625\n",
            "Epoch 37/50\n",
            "9/9 [==============================] - 3s 287ms/step - loss: 0.0821 - accuracy: 0.9739 - val_loss: 4.1096 - val_accuracy: 0.4625\n",
            "Epoch 38/50\n",
            "9/9 [==============================] - 3s 288ms/step - loss: 0.1002 - accuracy: 0.9701 - val_loss: 4.8204 - val_accuracy: 0.4625\n",
            "Epoch 39/50\n",
            "9/9 [==============================] - 3s 286ms/step - loss: 0.0790 - accuracy: 0.9701 - val_loss: 6.6387 - val_accuracy: 0.4500\n",
            "Epoch 40/50\n",
            "9/9 [==============================] - 3s 286ms/step - loss: 0.1004 - accuracy: 0.9776 - val_loss: 4.4929 - val_accuracy: 0.4375\n",
            "Epoch 41/50\n",
            "9/9 [==============================] - 3s 286ms/step - loss: 0.1075 - accuracy: 0.9701 - val_loss: 4.5518 - val_accuracy: 0.4125\n",
            "Epoch 42/50\n",
            "9/9 [==============================] - 3s 287ms/step - loss: 0.0345 - accuracy: 0.9963 - val_loss: 5.1656 - val_accuracy: 0.4500\n",
            "Epoch 43/50\n",
            "9/9 [==============================] - 3s 287ms/step - loss: 0.0410 - accuracy: 0.9851 - val_loss: 5.4878 - val_accuracy: 0.4625\n",
            "Epoch 44/50\n",
            "9/9 [==============================] - 3s 289ms/step - loss: 0.0527 - accuracy: 0.9888 - val_loss: 4.8452 - val_accuracy: 0.4750\n",
            "Epoch 45/50\n",
            "9/9 [==============================] - 3s 289ms/step - loss: 0.0272 - accuracy: 0.9888 - val_loss: 5.8991 - val_accuracy: 0.4625\n",
            "Epoch 46/50\n",
            "9/9 [==============================] - 3s 288ms/step - loss: 0.0411 - accuracy: 0.9888 - val_loss: 5.5726 - val_accuracy: 0.4625\n",
            "Epoch 47/50\n",
            "9/9 [==============================] - 3s 289ms/step - loss: 0.0162 - accuracy: 0.9963 - val_loss: 5.2427 - val_accuracy: 0.4750\n",
            "Epoch 48/50\n",
            "9/9 [==============================] - 3s 286ms/step - loss: 0.0221 - accuracy: 0.9925 - val_loss: 5.2040 - val_accuracy: 0.4500\n",
            "Epoch 49/50\n",
            "9/9 [==============================] - 3s 288ms/step - loss: 0.0832 - accuracy: 0.9664 - val_loss: 5.1598 - val_accuracy: 0.4500\n",
            "Epoch 50/50\n",
            "9/9 [==============================] - 3s 289ms/step - loss: 0.0552 - accuracy: 0.9776 - val_loss: 5.6792 - val_accuracy: 0.4375\n",
            "3/3 [==============================] - 0s 43ms/step - loss: 5.6792 - accuracy: 0.4375\n",
            "Test Loss 5.679236888885498\n",
            "Test Accuracy 0.4375\n"
          ],
          "name": "stdout"
        }
      ]
    }
  ]
}