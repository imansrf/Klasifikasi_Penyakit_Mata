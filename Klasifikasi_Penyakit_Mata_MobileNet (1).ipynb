{
  "nbformat": 4,
  "nbformat_minor": 0,
  "metadata": {
    "colab": {
      "name": "Klasifikasi_Penyakit_Mata_MobileNet.ipynb",
      "provenance": [],
      "collapsed_sections": []
    },
    "kernelspec": {
      "name": "python3",
      "display_name": "Python 3"
    },
    "accelerator": "GPU"
  },
  "cells": [
    {
      "cell_type": "markdown",
      "metadata": {
        "id": "r-qyXnKFMIHj"
      },
      "source": [
        "# Mengimpor fungsi library"
      ]
    },
    {
      "cell_type": "code",
      "metadata": {
        "id": "o3KGazgCxy4H"
      },
      "source": [
        "from __future__ import absolute_import, division, print_function, unicode_literals\n",
        "\n",
        "try:\n",
        "  # The %tensorflow_version magic only works in colab.\n",
        "  %tensorflow_version 2.x\n",
        "except Exception:\n",
        "  pass\n",
        "import numpy as np \n",
        "import math, os, sys\n",
        "import itertools\n",
        "\n",
        "import matplotlib.pyplot as plt\n",
        "plt.style.use('default')\n",
        "from scipy import ndimage\n",
        "\n",
        "from skimage import measure, morphology\n",
        "from skimage.io import imsave, imread\n",
        "from skimage.filters import threshold_otsu\n",
        "from skimage.transform import resize\n",
        "\n",
        "import tensorflow as tf\n",
        "from sklearn import svm, datasets\n",
        "from sklearn.metrics import confusion_matrix\n",
        "import pandas as pd"
      ],
      "execution_count": 1,
      "outputs": []
    },
    {
      "cell_type": "markdown",
      "metadata": {
        "id": "P8Ej20agMSRq"
      },
      "source": [
        "# Mengambil Dataset dari gdrive"
      ]
    },
    {
      "cell_type": "code",
      "metadata": {
        "id": "NHD6mnqKx8H8",
        "outputId": "8e55e2ae-50f2-48de-a977-b12d504e893d",
        "colab": {
          "base_uri": "https://localhost:8080/",
          "height": 34
        }
      },
      "source": [
        "from google.colab import drive\n",
        "drive.mount('/content/gdrive')"
      ],
      "execution_count": 2,
      "outputs": [
        {
          "output_type": "stream",
          "text": [
            "Mounted at /content/gdrive\n"
          ],
          "name": "stdout"
        }
      ]
    },
    {
      "cell_type": "markdown",
      "metadata": {
        "id": "rPKzgPZrMYKT"
      },
      "source": [
        "# Mengimpor Dataset"
      ]
    },
    {
      "cell_type": "code",
      "metadata": {
        "id": "3MC8ipRTyNkb",
        "outputId": "21ee0b94-1699-4a23-e461-a42802b9fa09",
        "colab": {
          "base_uri": "https://localhost:8080/",
          "height": 85
        }
      },
      "source": [
        "#Memuat semua gambar ke memori untuk pertama kali\n",
        "\n",
        "#Memuat dataset pelatihan\n",
        "IMAGE_SIZE = 224\n",
        "BATCH_SIZE = 215\n",
        "base_dir = os.path.join('gdrive/My Drive/Eye_diseases')\n",
        "\n",
        "datagen = tf.keras.preprocessing.image.ImageDataGenerator(\n",
        "    rescale=1./255, \n",
        "    validation_split=0.2)\n",
        "\n",
        "train_generator = datagen.flow_from_directory(\n",
        "    base_dir,\n",
        "    target_size=(IMAGE_SIZE, IMAGE_SIZE),\n",
        "    batch_size=BATCH_SIZE, \n",
        "    subset='training',\n",
        "    class_mode= 'categorical')\n",
        "\n",
        "val_generator = datagen.flow_from_directory(\n",
        "    base_dir,\n",
        "    target_size=(IMAGE_SIZE, IMAGE_SIZE),\n",
        "    batch_size=BATCH_SIZE, \n",
        "    subset='validation',\n",
        "    class_mode= 'categorical')\n",
        "\n",
        "#Menampilkan bentuk dari masing-masing dataset\n",
        "for image_batch, label_batch in train_generator:\n",
        "  break\n",
        "print(\"Bentuk array dari dataset train (pelatihan) adalah:\", image_batch.shape,label_batch.shape)\n",
        "for image_batch, label_batch in val_generator:\n",
        "  break\n",
        "print(\"Bentuk array dari dataset validation (validasi) adalah:\", image_batch.shape,label_batch.shape)"
      ],
      "execution_count": 22,
      "outputs": [
        {
          "output_type": "stream",
          "text": [
            "Found 308 images belonging to 5 classes.\n",
            "Found 75 images belonging to 5 classes.\n",
            "Bentuk array dari dataset train (pelatihan) adalah: (215, 224, 224, 3) (215, 5)\n",
            "Bentuk array dari dataset validation (validasi) adalah: (75, 224, 224, 3) (75, 5)\n"
          ],
          "name": "stdout"
        }
      ]
    },
    {
      "cell_type": "markdown",
      "metadata": {
        "id": "fJkyzMqvMjyp"
      },
      "source": [
        "# Menyimpan label"
      ]
    },
    {
      "cell_type": "code",
      "metadata": {
        "id": "zuiWFi8gyryf",
        "outputId": "6ccea712-d270-43f2-9a80-cab9ec050fcb",
        "colab": {
          "base_uri": "https://localhost:8080/",
          "height": 34
        }
      },
      "source": [
        "\n",
        "print (train_generator.class_indices)\n",
        "\n",
        "labels_txt = '\\n'.join(sorted(train_generator.class_indices.keys()))\n",
        "\n",
        "with open('labels.txt', 'w') as f:\n",
        "  f.write(labels_txt)"
      ],
      "execution_count": 23,
      "outputs": [
        {
          "output_type": "stream",
          "text": [
            "{'Bulging_eyes': 0, 'Crossed_eyes': 1, 'Glaucoma': 2, 'Uveitis': 3, 'cataract': 4}\n"
          ],
          "name": "stdout"
        }
      ]
    },
    {
      "cell_type": "code",
      "metadata": {
        "id": "auIaOCxgyguD",
        "outputId": "1c35d6e3-c792-45aa-a158-a5a9bf23210d",
        "colab": {
          "base_uri": "https://localhost:8080/",
          "height": 102
        }
      },
      "source": [
        "!cat labels.txt"
      ],
      "execution_count": 24,
      "outputs": [
        {
          "output_type": "stream",
          "text": [
            "Bulging_eyes\n",
            "Crossed_eyes\n",
            "Glaucoma\n",
            "Uveitis\n",
            "cataract"
          ],
          "name": "stdout"
        }
      ]
    },
    {
      "cell_type": "markdown",
      "metadata": {
        "id": "mdKpWZTBMwSb"
      },
      "source": [
        "# Membuat model CNN"
      ]
    },
    {
      "cell_type": "code",
      "metadata": {
        "id": "zrQKX9HVzbdY",
        "outputId": "eeabcf97-00dc-49d5-bec3-e4d36c12439a",
        "colab": {
          "base_uri": "https://localhost:8080/",
          "height": 1000
        }
      },
      "source": [
        "IMG_SHAPE = (224, 224, 3)\n",
        "# Membuat model dasar (base model) dari pre-trained model MobileNet\n",
        "base_model = tf.keras.applications.MobileNet(input_shape=IMG_SHAPE,\n",
        "                                              include_top=False, \n",
        "                                              weights='imagenet')\n",
        "\n",
        "base_model.trainable = False\n",
        "base_model.summary()"
      ],
      "execution_count": 25,
      "outputs": [
        {
          "output_type": "stream",
          "text": [
            "Model: \"mobilenet_1.00_224\"\n",
            "_________________________________________________________________\n",
            "Layer (type)                 Output Shape              Param #   \n",
            "=================================================================\n",
            "input_3 (InputLayer)         [(None, 224, 224, 3)]     0         \n",
            "_________________________________________________________________\n",
            "conv1_pad (ZeroPadding2D)    (None, 225, 225, 3)       0         \n",
            "_________________________________________________________________\n",
            "conv1 (Conv2D)               (None, 112, 112, 32)      864       \n",
            "_________________________________________________________________\n",
            "conv1_bn (BatchNormalization (None, 112, 112, 32)      128       \n",
            "_________________________________________________________________\n",
            "conv1_relu (ReLU)            (None, 112, 112, 32)      0         \n",
            "_________________________________________________________________\n",
            "conv_dw_1 (DepthwiseConv2D)  (None, 112, 112, 32)      288       \n",
            "_________________________________________________________________\n",
            "conv_dw_1_bn (BatchNormaliza (None, 112, 112, 32)      128       \n",
            "_________________________________________________________________\n",
            "conv_dw_1_relu (ReLU)        (None, 112, 112, 32)      0         \n",
            "_________________________________________________________________\n",
            "conv_pw_1 (Conv2D)           (None, 112, 112, 64)      2048      \n",
            "_________________________________________________________________\n",
            "conv_pw_1_bn (BatchNormaliza (None, 112, 112, 64)      256       \n",
            "_________________________________________________________________\n",
            "conv_pw_1_relu (ReLU)        (None, 112, 112, 64)      0         \n",
            "_________________________________________________________________\n",
            "conv_pad_2 (ZeroPadding2D)   (None, 113, 113, 64)      0         \n",
            "_________________________________________________________________\n",
            "conv_dw_2 (DepthwiseConv2D)  (None, 56, 56, 64)        576       \n",
            "_________________________________________________________________\n",
            "conv_dw_2_bn (BatchNormaliza (None, 56, 56, 64)        256       \n",
            "_________________________________________________________________\n",
            "conv_dw_2_relu (ReLU)        (None, 56, 56, 64)        0         \n",
            "_________________________________________________________________\n",
            "conv_pw_2 (Conv2D)           (None, 56, 56, 128)       8192      \n",
            "_________________________________________________________________\n",
            "conv_pw_2_bn (BatchNormaliza (None, 56, 56, 128)       512       \n",
            "_________________________________________________________________\n",
            "conv_pw_2_relu (ReLU)        (None, 56, 56, 128)       0         \n",
            "_________________________________________________________________\n",
            "conv_dw_3 (DepthwiseConv2D)  (None, 56, 56, 128)       1152      \n",
            "_________________________________________________________________\n",
            "conv_dw_3_bn (BatchNormaliza (None, 56, 56, 128)       512       \n",
            "_________________________________________________________________\n",
            "conv_dw_3_relu (ReLU)        (None, 56, 56, 128)       0         \n",
            "_________________________________________________________________\n",
            "conv_pw_3 (Conv2D)           (None, 56, 56, 128)       16384     \n",
            "_________________________________________________________________\n",
            "conv_pw_3_bn (BatchNormaliza (None, 56, 56, 128)       512       \n",
            "_________________________________________________________________\n",
            "conv_pw_3_relu (ReLU)        (None, 56, 56, 128)       0         \n",
            "_________________________________________________________________\n",
            "conv_pad_4 (ZeroPadding2D)   (None, 57, 57, 128)       0         \n",
            "_________________________________________________________________\n",
            "conv_dw_4 (DepthwiseConv2D)  (None, 28, 28, 128)       1152      \n",
            "_________________________________________________________________\n",
            "conv_dw_4_bn (BatchNormaliza (None, 28, 28, 128)       512       \n",
            "_________________________________________________________________\n",
            "conv_dw_4_relu (ReLU)        (None, 28, 28, 128)       0         \n",
            "_________________________________________________________________\n",
            "conv_pw_4 (Conv2D)           (None, 28, 28, 256)       32768     \n",
            "_________________________________________________________________\n",
            "conv_pw_4_bn (BatchNormaliza (None, 28, 28, 256)       1024      \n",
            "_________________________________________________________________\n",
            "conv_pw_4_relu (ReLU)        (None, 28, 28, 256)       0         \n",
            "_________________________________________________________________\n",
            "conv_dw_5 (DepthwiseConv2D)  (None, 28, 28, 256)       2304      \n",
            "_________________________________________________________________\n",
            "conv_dw_5_bn (BatchNormaliza (None, 28, 28, 256)       1024      \n",
            "_________________________________________________________________\n",
            "conv_dw_5_relu (ReLU)        (None, 28, 28, 256)       0         \n",
            "_________________________________________________________________\n",
            "conv_pw_5 (Conv2D)           (None, 28, 28, 256)       65536     \n",
            "_________________________________________________________________\n",
            "conv_pw_5_bn (BatchNormaliza (None, 28, 28, 256)       1024      \n",
            "_________________________________________________________________\n",
            "conv_pw_5_relu (ReLU)        (None, 28, 28, 256)       0         \n",
            "_________________________________________________________________\n",
            "conv_pad_6 (ZeroPadding2D)   (None, 29, 29, 256)       0         \n",
            "_________________________________________________________________\n",
            "conv_dw_6 (DepthwiseConv2D)  (None, 14, 14, 256)       2304      \n",
            "_________________________________________________________________\n",
            "conv_dw_6_bn (BatchNormaliza (None, 14, 14, 256)       1024      \n",
            "_________________________________________________________________\n",
            "conv_dw_6_relu (ReLU)        (None, 14, 14, 256)       0         \n",
            "_________________________________________________________________\n",
            "conv_pw_6 (Conv2D)           (None, 14, 14, 512)       131072    \n",
            "_________________________________________________________________\n",
            "conv_pw_6_bn (BatchNormaliza (None, 14, 14, 512)       2048      \n",
            "_________________________________________________________________\n",
            "conv_pw_6_relu (ReLU)        (None, 14, 14, 512)       0         \n",
            "_________________________________________________________________\n",
            "conv_dw_7 (DepthwiseConv2D)  (None, 14, 14, 512)       4608      \n",
            "_________________________________________________________________\n",
            "conv_dw_7_bn (BatchNormaliza (None, 14, 14, 512)       2048      \n",
            "_________________________________________________________________\n",
            "conv_dw_7_relu (ReLU)        (None, 14, 14, 512)       0         \n",
            "_________________________________________________________________\n",
            "conv_pw_7 (Conv2D)           (None, 14, 14, 512)       262144    \n",
            "_________________________________________________________________\n",
            "conv_pw_7_bn (BatchNormaliza (None, 14, 14, 512)       2048      \n",
            "_________________________________________________________________\n",
            "conv_pw_7_relu (ReLU)        (None, 14, 14, 512)       0         \n",
            "_________________________________________________________________\n",
            "conv_dw_8 (DepthwiseConv2D)  (None, 14, 14, 512)       4608      \n",
            "_________________________________________________________________\n",
            "conv_dw_8_bn (BatchNormaliza (None, 14, 14, 512)       2048      \n",
            "_________________________________________________________________\n",
            "conv_dw_8_relu (ReLU)        (None, 14, 14, 512)       0         \n",
            "_________________________________________________________________\n",
            "conv_pw_8 (Conv2D)           (None, 14, 14, 512)       262144    \n",
            "_________________________________________________________________\n",
            "conv_pw_8_bn (BatchNormaliza (None, 14, 14, 512)       2048      \n",
            "_________________________________________________________________\n",
            "conv_pw_8_relu (ReLU)        (None, 14, 14, 512)       0         \n",
            "_________________________________________________________________\n",
            "conv_dw_9 (DepthwiseConv2D)  (None, 14, 14, 512)       4608      \n",
            "_________________________________________________________________\n",
            "conv_dw_9_bn (BatchNormaliza (None, 14, 14, 512)       2048      \n",
            "_________________________________________________________________\n",
            "conv_dw_9_relu (ReLU)        (None, 14, 14, 512)       0         \n",
            "_________________________________________________________________\n",
            "conv_pw_9 (Conv2D)           (None, 14, 14, 512)       262144    \n",
            "_________________________________________________________________\n",
            "conv_pw_9_bn (BatchNormaliza (None, 14, 14, 512)       2048      \n",
            "_________________________________________________________________\n",
            "conv_pw_9_relu (ReLU)        (None, 14, 14, 512)       0         \n",
            "_________________________________________________________________\n",
            "conv_dw_10 (DepthwiseConv2D) (None, 14, 14, 512)       4608      \n",
            "_________________________________________________________________\n",
            "conv_dw_10_bn (BatchNormaliz (None, 14, 14, 512)       2048      \n",
            "_________________________________________________________________\n",
            "conv_dw_10_relu (ReLU)       (None, 14, 14, 512)       0         \n",
            "_________________________________________________________________\n",
            "conv_pw_10 (Conv2D)          (None, 14, 14, 512)       262144    \n",
            "_________________________________________________________________\n",
            "conv_pw_10_bn (BatchNormaliz (None, 14, 14, 512)       2048      \n",
            "_________________________________________________________________\n",
            "conv_pw_10_relu (ReLU)       (None, 14, 14, 512)       0         \n",
            "_________________________________________________________________\n",
            "conv_dw_11 (DepthwiseConv2D) (None, 14, 14, 512)       4608      \n",
            "_________________________________________________________________\n",
            "conv_dw_11_bn (BatchNormaliz (None, 14, 14, 512)       2048      \n",
            "_________________________________________________________________\n",
            "conv_dw_11_relu (ReLU)       (None, 14, 14, 512)       0         \n",
            "_________________________________________________________________\n",
            "conv_pw_11 (Conv2D)          (None, 14, 14, 512)       262144    \n",
            "_________________________________________________________________\n",
            "conv_pw_11_bn (BatchNormaliz (None, 14, 14, 512)       2048      \n",
            "_________________________________________________________________\n",
            "conv_pw_11_relu (ReLU)       (None, 14, 14, 512)       0         \n",
            "_________________________________________________________________\n",
            "conv_pad_12 (ZeroPadding2D)  (None, 15, 15, 512)       0         \n",
            "_________________________________________________________________\n",
            "conv_dw_12 (DepthwiseConv2D) (None, 7, 7, 512)         4608      \n",
            "_________________________________________________________________\n",
            "conv_dw_12_bn (BatchNormaliz (None, 7, 7, 512)         2048      \n",
            "_________________________________________________________________\n",
            "conv_dw_12_relu (ReLU)       (None, 7, 7, 512)         0         \n",
            "_________________________________________________________________\n",
            "conv_pw_12 (Conv2D)          (None, 7, 7, 1024)        524288    \n",
            "_________________________________________________________________\n",
            "conv_pw_12_bn (BatchNormaliz (None, 7, 7, 1024)        4096      \n",
            "_________________________________________________________________\n",
            "conv_pw_12_relu (ReLU)       (None, 7, 7, 1024)        0         \n",
            "_________________________________________________________________\n",
            "conv_dw_13 (DepthwiseConv2D) (None, 7, 7, 1024)        9216      \n",
            "_________________________________________________________________\n",
            "conv_dw_13_bn (BatchNormaliz (None, 7, 7, 1024)        4096      \n",
            "_________________________________________________________________\n",
            "conv_dw_13_relu (ReLU)       (None, 7, 7, 1024)        0         \n",
            "_________________________________________________________________\n",
            "conv_pw_13 (Conv2D)          (None, 7, 7, 1024)        1048576   \n",
            "_________________________________________________________________\n",
            "conv_pw_13_bn (BatchNormaliz (None, 7, 7, 1024)        4096      \n",
            "_________________________________________________________________\n",
            "conv_pw_13_relu (ReLU)       (None, 7, 7, 1024)        0         \n",
            "=================================================================\n",
            "Total params: 3,228,864\n",
            "Trainable params: 0\n",
            "Non-trainable params: 3,228,864\n",
            "_________________________________________________________________\n"
          ],
          "name": "stdout"
        }
      ]
    },
    {
      "cell_type": "code",
      "metadata": {
        "id": "m-JJL-gNzo4F"
      },
      "source": [
        "import keras\n",
        "from keras import backend as K\n",
        "from keras.models import Sequential\n",
        "from keras import layers\n",
        "from keras.utils.np_utils import to_categorical\n",
        "\n",
        "from sklearn.model_selection import train_test_split"
      ],
      "execution_count": 26,
      "outputs": []
    },
    {
      "cell_type": "code",
      "metadata": {
        "id": "k8kb4gw2zko6",
        "outputId": "a78c3303-a3c8-47c0-ca30-4ceddda9face",
        "colab": {
          "base_uri": "https://localhost:8080/",
          "height": 289
        }
      },
      "source": [
        "model = tf.keras.Sequential([\n",
        "    base_model,    \n",
        "    tf.keras.layers.Conv2D(32, 3, activation='relu'),\n",
        "    #tf.keras.layers.Dropout(0.2),\n",
        "    tf.keras.layers.GlobalAveragePooling2D(),\n",
        "    tf.keras.layers.Dense(5, activation='softmax')\n",
        "]\n",
        ")\n",
        "\n",
        "model.compile(\"adam\",loss=\"categorical_crossentropy\",metrics=[\"acc\"])\n",
        "model.summary()"
      ],
      "execution_count": 27,
      "outputs": [
        {
          "output_type": "stream",
          "text": [
            "Model: \"sequential_2\"\n",
            "_________________________________________________________________\n",
            "Layer (type)                 Output Shape              Param #   \n",
            "=================================================================\n",
            "mobilenet_1.00_224 (Function (None, 7, 7, 1024)        3228864   \n",
            "_________________________________________________________________\n",
            "conv2d_2 (Conv2D)            (None, 5, 5, 32)          294944    \n",
            "_________________________________________________________________\n",
            "global_average_pooling2d_2 ( (None, 32)                0         \n",
            "_________________________________________________________________\n",
            "dense_2 (Dense)              (None, 5)                 165       \n",
            "=================================================================\n",
            "Total params: 3,523,973\n",
            "Trainable params: 295,109\n",
            "Non-trainable params: 3,228,864\n",
            "_________________________________________________________________\n"
          ],
          "name": "stdout"
        }
      ]
    },
    {
      "cell_type": "code",
      "metadata": {
        "id": "B6cYQQ_8z294",
        "outputId": "192f54cf-290a-4e2f-98cd-b24c76acca9e",
        "colab": {
          "base_uri": "https://localhost:8080/",
          "height": 1000
        }
      },
      "source": [
        "history = model.fit_generator(train_generator, \n",
        "                    epochs=80, \n",
        "                    validation_data=val_generator)"
      ],
      "execution_count": 28,
      "outputs": [
        {
          "output_type": "stream",
          "text": [
            "Epoch 1/80\n",
            "2/2 [==============================] - 1s 504ms/step - loss: 2.3320 - acc: 0.2435 - val_loss: 2.7545 - val_acc: 0.6000\n",
            "Epoch 2/80\n",
            "2/2 [==============================] - 0s 225ms/step - loss: 2.8353 - acc: 0.5487 - val_loss: 2.4972 - val_acc: 0.5333\n",
            "Epoch 3/80\n",
            "2/2 [==============================] - 0s 225ms/step - loss: 2.1955 - acc: 0.5584 - val_loss: 1.6602 - val_acc: 0.6400\n",
            "Epoch 4/80\n",
            "2/2 [==============================] - 0s 221ms/step - loss: 1.3045 - acc: 0.6169 - val_loss: 1.4936 - val_acc: 0.6267\n",
            "Epoch 5/80\n",
            "2/2 [==============================] - 0s 232ms/step - loss: 1.0367 - acc: 0.6721 - val_loss: 1.0802 - val_acc: 0.6933\n",
            "Epoch 6/80\n",
            "2/2 [==============================] - 0s 210ms/step - loss: 0.7226 - acc: 0.7597 - val_loss: 0.9014 - val_acc: 0.6667\n",
            "Epoch 7/80\n",
            "2/2 [==============================] - 1s 461ms/step - loss: 0.6732 - acc: 0.7500 - val_loss: 0.9319 - val_acc: 0.6800\n",
            "Epoch 8/80\n",
            "2/2 [==============================] - 1s 474ms/step - loss: 0.6704 - acc: 0.7792 - val_loss: 0.9049 - val_acc: 0.6800\n",
            "Epoch 9/80\n",
            "2/2 [==============================] - 0s 226ms/step - loss: 0.5888 - acc: 0.8214 - val_loss: 0.8275 - val_acc: 0.7333\n",
            "Epoch 10/80\n",
            "2/2 [==============================] - 0s 219ms/step - loss: 0.5110 - acc: 0.8117 - val_loss: 0.8752 - val_acc: 0.6800\n",
            "Epoch 11/80\n",
            "2/2 [==============================] - 1s 464ms/step - loss: 0.4866 - acc: 0.8019 - val_loss: 0.8842 - val_acc: 0.6933\n",
            "Epoch 12/80\n",
            "2/2 [==============================] - 0s 208ms/step - loss: 0.4241 - acc: 0.8312 - val_loss: 0.8444 - val_acc: 0.7067\n",
            "Epoch 13/80\n",
            "2/2 [==============================] - 0s 230ms/step - loss: 0.3527 - acc: 0.8734 - val_loss: 0.8682 - val_acc: 0.6667\n",
            "Epoch 14/80\n",
            "2/2 [==============================] - 0s 223ms/step - loss: 0.3170 - acc: 0.8831 - val_loss: 0.8973 - val_acc: 0.6533\n",
            "Epoch 15/80\n",
            "2/2 [==============================] - 0s 213ms/step - loss: 0.2856 - acc: 0.8929 - val_loss: 0.9088 - val_acc: 0.6933\n",
            "Epoch 16/80\n",
            "2/2 [==============================] - 0s 220ms/step - loss: 0.2556 - acc: 0.9058 - val_loss: 0.9195 - val_acc: 0.6933\n",
            "Epoch 17/80\n",
            "2/2 [==============================] - 1s 460ms/step - loss: 0.2306 - acc: 0.9123 - val_loss: 0.9536 - val_acc: 0.6933\n",
            "Epoch 18/80\n",
            "2/2 [==============================] - 0s 227ms/step - loss: 0.2110 - acc: 0.9221 - val_loss: 0.9823 - val_acc: 0.6667\n",
            "Epoch 19/80\n",
            "2/2 [==============================] - 0s 213ms/step - loss: 0.1798 - acc: 0.9448 - val_loss: 1.0042 - val_acc: 0.6267\n",
            "Epoch 20/80\n",
            "2/2 [==============================] - 1s 455ms/step - loss: 0.1530 - acc: 0.9708 - val_loss: 1.0254 - val_acc: 0.6267\n",
            "Epoch 21/80\n",
            "2/2 [==============================] - 1s 468ms/step - loss: 0.1370 - acc: 0.9773 - val_loss: 1.0730 - val_acc: 0.6267\n",
            "Epoch 22/80\n",
            "2/2 [==============================] - 1s 462ms/step - loss: 0.1190 - acc: 0.9773 - val_loss: 1.1295 - val_acc: 0.6533\n",
            "Epoch 23/80\n",
            "2/2 [==============================] - 0s 214ms/step - loss: 0.1073 - acc: 0.9805 - val_loss: 1.1780 - val_acc: 0.6533\n",
            "Epoch 24/80\n",
            "2/2 [==============================] - 1s 467ms/step - loss: 0.0944 - acc: 0.9870 - val_loss: 1.1831 - val_acc: 0.6400\n",
            "Epoch 25/80\n",
            "2/2 [==============================] - 0s 223ms/step - loss: 0.0830 - acc: 0.9870 - val_loss: 1.1554 - val_acc: 0.6267\n",
            "Epoch 26/80\n",
            "2/2 [==============================] - 1s 458ms/step - loss: 0.0717 - acc: 0.9935 - val_loss: 1.1338 - val_acc: 0.6533\n",
            "Epoch 27/80\n",
            "2/2 [==============================] - 0s 209ms/step - loss: 0.0660 - acc: 0.9935 - val_loss: 1.1439 - val_acc: 0.6667\n",
            "Epoch 28/80\n",
            "2/2 [==============================] - 0s 229ms/step - loss: 0.0582 - acc: 1.0000 - val_loss: 1.1797 - val_acc: 0.6400\n",
            "Epoch 29/80\n",
            "2/2 [==============================] - 0s 218ms/step - loss: 0.0501 - acc: 1.0000 - val_loss: 1.2160 - val_acc: 0.6533\n",
            "Epoch 30/80\n",
            "2/2 [==============================] - 0s 209ms/step - loss: 0.0452 - acc: 1.0000 - val_loss: 1.2385 - val_acc: 0.6400\n",
            "Epoch 31/80\n",
            "2/2 [==============================] - 0s 211ms/step - loss: 0.0403 - acc: 1.0000 - val_loss: 1.2378 - val_acc: 0.6667\n",
            "Epoch 32/80\n",
            "2/2 [==============================] - 1s 464ms/step - loss: 0.0367 - acc: 1.0000 - val_loss: 1.2251 - val_acc: 0.6667\n",
            "Epoch 33/80\n",
            "2/2 [==============================] - 1s 471ms/step - loss: 0.0331 - acc: 1.0000 - val_loss: 1.2214 - val_acc: 0.6533\n",
            "Epoch 34/80\n",
            "2/2 [==============================] - 0s 227ms/step - loss: 0.0297 - acc: 1.0000 - val_loss: 1.2402 - val_acc: 0.6667\n",
            "Epoch 35/80\n",
            "2/2 [==============================] - 0s 225ms/step - loss: 0.0271 - acc: 1.0000 - val_loss: 1.2672 - val_acc: 0.6400\n",
            "Epoch 36/80\n",
            "2/2 [==============================] - 0s 224ms/step - loss: 0.0247 - acc: 1.0000 - val_loss: 1.2867 - val_acc: 0.6667\n",
            "Epoch 37/80\n",
            "2/2 [==============================] - 0s 237ms/step - loss: 0.0223 - acc: 1.0000 - val_loss: 1.3069 - val_acc: 0.6533\n",
            "Epoch 38/80\n",
            "2/2 [==============================] - 1s 477ms/step - loss: 0.0203 - acc: 1.0000 - val_loss: 1.3262 - val_acc: 0.6400\n",
            "Epoch 39/80\n",
            "2/2 [==============================] - 0s 241ms/step - loss: 0.0191 - acc: 1.0000 - val_loss: 1.3394 - val_acc: 0.6400\n",
            "Epoch 40/80\n",
            "2/2 [==============================] - 1s 500ms/step - loss: 0.0172 - acc: 1.0000 - val_loss: 1.3517 - val_acc: 0.6400\n",
            "Epoch 41/80\n",
            "2/2 [==============================] - 0s 232ms/step - loss: 0.0162 - acc: 1.0000 - val_loss: 1.3592 - val_acc: 0.6400\n",
            "Epoch 42/80\n",
            "2/2 [==============================] - 1s 453ms/step - loss: 0.0151 - acc: 1.0000 - val_loss: 1.3662 - val_acc: 0.6533\n",
            "Epoch 43/80\n",
            "2/2 [==============================] - 0s 224ms/step - loss: 0.0144 - acc: 1.0000 - val_loss: 1.3690 - val_acc: 0.6667\n",
            "Epoch 44/80\n",
            "2/2 [==============================] - 0s 213ms/step - loss: 0.0134 - acc: 1.0000 - val_loss: 1.3716 - val_acc: 0.6667\n",
            "Epoch 45/80\n",
            "2/2 [==============================] - 0s 210ms/step - loss: 0.0126 - acc: 1.0000 - val_loss: 1.3804 - val_acc: 0.6667\n",
            "Epoch 46/80\n",
            "2/2 [==============================] - 1s 460ms/step - loss: 0.0119 - acc: 1.0000 - val_loss: 1.3956 - val_acc: 0.6667\n",
            "Epoch 47/80\n",
            "2/2 [==============================] - 1s 461ms/step - loss: 0.0113 - acc: 1.0000 - val_loss: 1.4071 - val_acc: 0.6533\n",
            "Epoch 48/80\n",
            "2/2 [==============================] - 1s 455ms/step - loss: 0.0107 - acc: 1.0000 - val_loss: 1.4137 - val_acc: 0.6400\n",
            "Epoch 49/80\n",
            "2/2 [==============================] - 1s 464ms/step - loss: 0.0101 - acc: 1.0000 - val_loss: 1.4167 - val_acc: 0.6400\n",
            "Epoch 50/80\n",
            "2/2 [==============================] - 0s 211ms/step - loss: 0.0098 - acc: 1.0000 - val_loss: 1.4202 - val_acc: 0.6400\n",
            "Epoch 51/80\n",
            "2/2 [==============================] - 1s 465ms/step - loss: 0.0093 - acc: 1.0000 - val_loss: 1.4243 - val_acc: 0.6400\n",
            "Epoch 52/80\n",
            "2/2 [==============================] - 0s 224ms/step - loss: 0.0090 - acc: 1.0000 - val_loss: 1.4272 - val_acc: 0.6400\n",
            "Epoch 53/80\n",
            "2/2 [==============================] - 0s 203ms/step - loss: 0.0086 - acc: 1.0000 - val_loss: 1.4322 - val_acc: 0.6400\n",
            "Epoch 54/80\n",
            "2/2 [==============================] - 1s 464ms/step - loss: 0.0082 - acc: 1.0000 - val_loss: 1.4317 - val_acc: 0.6400\n",
            "Epoch 55/80\n",
            "2/2 [==============================] - 1s 471ms/step - loss: 0.0079 - acc: 1.0000 - val_loss: 1.4330 - val_acc: 0.6400\n",
            "Epoch 56/80\n",
            "2/2 [==============================] - 1s 457ms/step - loss: 0.0076 - acc: 1.0000 - val_loss: 1.4328 - val_acc: 0.6400\n",
            "Epoch 57/80\n",
            "2/2 [==============================] - 0s 207ms/step - loss: 0.0074 - acc: 1.0000 - val_loss: 1.4349 - val_acc: 0.6400\n",
            "Epoch 58/80\n",
            "2/2 [==============================] - 1s 461ms/step - loss: 0.0071 - acc: 1.0000 - val_loss: 1.4386 - val_acc: 0.6400\n",
            "Epoch 59/80\n",
            "2/2 [==============================] - 0s 217ms/step - loss: 0.0069 - acc: 1.0000 - val_loss: 1.4441 - val_acc: 0.6400\n",
            "Epoch 60/80\n",
            "2/2 [==============================] - 0s 224ms/step - loss: 0.0067 - acc: 1.0000 - val_loss: 1.4492 - val_acc: 0.6400\n",
            "Epoch 61/80\n",
            "2/2 [==============================] - 0s 207ms/step - loss: 0.0065 - acc: 1.0000 - val_loss: 1.4522 - val_acc: 0.6400\n",
            "Epoch 62/80\n",
            "2/2 [==============================] - 1s 470ms/step - loss: 0.0062 - acc: 1.0000 - val_loss: 1.4548 - val_acc: 0.6400\n",
            "Epoch 63/80\n",
            "2/2 [==============================] - 1s 463ms/step - loss: 0.0060 - acc: 1.0000 - val_loss: 1.4579 - val_acc: 0.6400\n",
            "Epoch 64/80\n",
            "2/2 [==============================] - 1s 453ms/step - loss: 0.0059 - acc: 1.0000 - val_loss: 1.4599 - val_acc: 0.6533\n",
            "Epoch 65/80\n",
            "2/2 [==============================] - 1s 463ms/step - loss: 0.0057 - acc: 1.0000 - val_loss: 1.4646 - val_acc: 0.6533\n",
            "Epoch 66/80\n",
            "2/2 [==============================] - 0s 218ms/step - loss: 0.0056 - acc: 1.0000 - val_loss: 1.4698 - val_acc: 0.6533\n",
            "Epoch 67/80\n",
            "2/2 [==============================] - 1s 457ms/step - loss: 0.0054 - acc: 1.0000 - val_loss: 1.4791 - val_acc: 0.6400\n",
            "Epoch 68/80\n",
            "2/2 [==============================] - 1s 447ms/step - loss: 0.0052 - acc: 1.0000 - val_loss: 1.4823 - val_acc: 0.6400\n",
            "Epoch 69/80\n",
            "2/2 [==============================] - 0s 227ms/step - loss: 0.0051 - acc: 1.0000 - val_loss: 1.4850 - val_acc: 0.6400\n",
            "Epoch 70/80\n",
            "2/2 [==============================] - 1s 459ms/step - loss: 0.0050 - acc: 1.0000 - val_loss: 1.4878 - val_acc: 0.6400\n",
            "Epoch 71/80\n",
            "2/2 [==============================] - 0s 221ms/step - loss: 0.0049 - acc: 1.0000 - val_loss: 1.4906 - val_acc: 0.6400\n",
            "Epoch 72/80\n",
            "2/2 [==============================] - 0s 225ms/step - loss: 0.0047 - acc: 1.0000 - val_loss: 1.4945 - val_acc: 0.6400\n",
            "Epoch 73/80\n",
            "2/2 [==============================] - 1s 462ms/step - loss: 0.0046 - acc: 1.0000 - val_loss: 1.4984 - val_acc: 0.6533\n",
            "Epoch 74/80\n",
            "2/2 [==============================] - 0s 231ms/step - loss: 0.0045 - acc: 1.0000 - val_loss: 1.5021 - val_acc: 0.6533\n",
            "Epoch 75/80\n",
            "2/2 [==============================] - 0s 208ms/step - loss: 0.0044 - acc: 1.0000 - val_loss: 1.5057 - val_acc: 0.6400\n",
            "Epoch 76/80\n",
            "2/2 [==============================] - 1s 452ms/step - loss: 0.0043 - acc: 1.0000 - val_loss: 1.5087 - val_acc: 0.6400\n",
            "Epoch 77/80\n",
            "2/2 [==============================] - 1s 461ms/step - loss: 0.0042 - acc: 1.0000 - val_loss: 1.5090 - val_acc: 0.6533\n",
            "Epoch 78/80\n",
            "2/2 [==============================] - 1s 453ms/step - loss: 0.0041 - acc: 1.0000 - val_loss: 1.5140 - val_acc: 0.6400\n",
            "Epoch 79/80\n",
            "2/2 [==============================] - 0s 217ms/step - loss: 0.0040 - acc: 1.0000 - val_loss: 1.5180 - val_acc: 0.6400\n",
            "Epoch 80/80\n",
            "2/2 [==============================] - 0s 217ms/step - loss: 0.0039 - acc: 1.0000 - val_loss: 1.5214 - val_acc: 0.6400\n"
          ],
          "name": "stdout"
        }
      ]
    },
    {
      "cell_type": "markdown",
      "metadata": {
        "id": "8iN51d-xNJhB"
      },
      "source": [
        "# Menampilkan Hasil Pelatihan"
      ]
    },
    {
      "cell_type": "code",
      "metadata": {
        "id": "dK0JIgi2LOVi",
        "outputId": "de7107b9-2c42-41ac-e352-0f47c24ce9a4",
        "colab": {
          "base_uri": "https://localhost:8080/",
          "height": 513
        }
      },
      "source": [
        "plt.plot(history.history[\"acc\"],label=\"Akurasi Pelatihan\")\n",
        "plt.plot(history.history[\"val_acc\"],label=\"Validasi Akurasi\")\n",
        "plt.legend()\n",
        "plt.show()\n",
        "\n",
        "plt.plot(history.history[\"loss\"],label=\"Kesalahan Pelatihan\")\n",
        "plt.plot(history.history[\"val_loss\"],label=\"Validasi Kesalahan\")\n",
        "plt.legend()\n",
        "plt.show()"
      ],
      "execution_count": 29,
      "outputs": [
        {
          "output_type": "display_data",
          "data": {
            "image/png": "[encoded data removed]",
            "text/plain": [
              "<Figure size 432x288 with 1 Axes>"
            ]
          },
          "metadata": {
            "tags": [],
            "needs_background": "light"
          }
        },
        {
          "output_type": "display_data",
          "data": {
            "image/png": "[encoded data removed]",
            "text/plain": [
              "<Figure size 432x288 with 1 Axes>"
            ]
          },
          "metadata": {
            "tags": [],
            "needs_background": "light"
          }
        }
      ]
    },
    {
      "cell_type": "markdown",
      "metadata": {
        "id": "3nWovNwNNPSS"
      },
      "source": [
        "# Menggunakan Model"
      ]
    },
    {
      "cell_type": "code",
      "metadata": {
        "id": "63DCEjBgLYR0",
        "outputId": "56501de4-411d-44cd-a213-4282388edc5c",
        "colab": {
          "base_uri": "https://localhost:8080/",
          "height": 34
        }
      },
      "source": [
        "print('Number of trainable variables = {}'.format(len(model.trainable_variables)))"
      ],
      "execution_count": 30,
      "outputs": [
        {
          "output_type": "stream",
          "text": [
            "Number of trainable variables = 4\n"
          ],
          "name": "stdout"
        }
      ]
    },
    {
      "cell_type": "code",
      "metadata": {
        "id": "fsFCpQoBLr5y",
        "outputId": "501b3ba1-4d73-497f-8d7f-9d66ded2d7ce",
        "colab": {
          "base_uri": "https://localhost:8080/",
          "height": 320
        }
      },
      "source": [
        "#Prediksi Label Validasi dengan Pelatihan\n",
        "n = 73\n",
        "input_image = image_batch[n][np.newaxis,...]\n",
        "print(\"Labelnya adalah: \", label_batch[n])\n",
        "\n",
        "predictions = model.predict(input_image)\n",
        "print(\"Prediksinya adalah\",predictions[0])\n",
        "\n",
        "plt.imshow(image_batch[n])"
      ],
      "execution_count": 44,
      "outputs": [
        {
          "output_type": "stream",
          "text": [
            "Labelnya adalah:  [1. 0. 0. 0. 0.]\n",
            "Prediksinya adalah [5.4141026e-02 9.4561464e-01 1.0392251e-04 5.7599107e-07 1.3992361e-04]\n"
          ],
          "name": "stdout"
        },
        {
          "output_type": "execute_result",
          "data": {
            "text/plain": [
              "<matplotlib.image.AxesImage at 0x7f929b1a84a8>"
            ]
          },
          "metadata": {
            "tags": []
          },
          "execution_count": 44
        },
        {
          "output_type": "display_data",
          "data": {
            "image/png": "[encoded data removed]",
            "text/plain": [
              "<Figure size 432x288 with 1 Axes>"
            ]
          },
          "metadata": {
            "tags": [],
            "needs_background": "light"
          }
        }
      ]
    }
  ]
}