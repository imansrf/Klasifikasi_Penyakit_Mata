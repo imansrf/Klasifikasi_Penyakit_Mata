{
  "nbformat": 4,
  "nbformat_minor": 0,
  "metadata": {
    "colab": {
      "name": "Klasifikasi_Penyakit_Mata_MobileNet.ipynb",
      "provenance": [],
      "collapsed_sections": []
    },
    "kernelspec": {
      "name": "python3",
      "display_name": "Python 3"
    },
    "accelerator": "GPU"
  },
  "cells": [
    {
      "cell_type": "markdown",
      "metadata": {
        "id": "r-qyXnKFMIHj"
      },
      "source": [
        "# Mengimpor fungsi library"
      ]
    },
    {
      "cell_type": "code",
      "metadata": {
        "id": "o3KGazgCxy4H"
      },
      "source": [
        "from __future__ import absolute_import, division, print_function, unicode_literals\n",
        "\n",
        "try:\n",
        "  # The %tensorflow_version magic only works in colab.\n",
        "  %tensorflow_version 2.x\n",
        "except Exception:\n",
        "  pass\n",
        "import numpy as np \n",
        "import math, os, sys\n",
        "import itertools\n",
        "\n",
        "import matplotlib.pyplot as plt\n",
        "plt.style.use('default')\n",
        "from scipy import ndimage\n",
        "\n",
        "from skimage import measure, morphology\n",
        "from skimage.io import imsave, imread\n",
        "from skimage.filters import threshold_otsu\n",
        "from skimage.transform import resize\n",
        "\n",
        "import tensorflow as tf\n",
        "from sklearn import svm, datasets\n",
        "from sklearn.metrics import confusion_matrix\n",
        "import pandas as pd"
      ],
      "execution_count": 1,
      "outputs": []
    },
    {
      "cell_type": "markdown",
      "metadata": {
        "id": "P8Ej20agMSRq"
      },
      "source": [
        "# Mengambil Dataset dari gdrive"
      ]
    },
    {
      "cell_type": "code",
      "metadata": {
        "id": "NHD6mnqKx8H8",
        "outputId": "ffd100ee-28db-4bfb-b9c6-51b2b76a4c86",
        "colab": {
          "base_uri": "https://localhost:8080/",
          "height": 34
        }
      },
      "source": [
        "from google.colab import drive\n",
        "drive.mount('/content/gdrive')"
      ],
      "execution_count": 2,
      "outputs": [
        {
          "output_type": "stream",
          "text": [
            "Mounted at /content/gdrive\n"
          ],
          "name": "stdout"
        }
      ]
    },
    {
      "cell_type": "markdown",
      "metadata": {
        "id": "rPKzgPZrMYKT"
      },
      "source": [
        "# Mengimpor Dataset"
      ]
    },
    {
      "cell_type": "code",
      "metadata": {
        "id": "3MC8ipRTyNkb",
        "outputId": "fe21831b-8400-4ce0-9937-a594e54f0fdc",
        "colab": {
          "base_uri": "https://localhost:8080/",
          "height": 85
        }
      },
      "source": [
        "#Memuat semua gambar ke memori untuk pertama kali\n",
        "\n",
        "#Memuat dataset pelatihan\n",
        "IMAGE_SIZE = 224\n",
        "BATCH_SIZE = 128\n",
        "base_dir = os.path.join('gdrive/My Drive/Eye_diseases')\n",
        "\n",
        "datagen = tf.keras.preprocessing.image.ImageDataGenerator(\n",
        "    rescale=1./255, \n",
        "    validation_split=0.2)\n",
        "\n",
        "train_generator = datagen.flow_from_directory(\n",
        "    base_dir,\n",
        "    target_size=(IMAGE_SIZE, IMAGE_SIZE),\n",
        "    batch_size=BATCH_SIZE, \n",
        "    subset='training',\n",
        "    class_mode= 'categorical')\n",
        "\n",
        "val_generator = datagen.flow_from_directory(\n",
        "    base_dir,\n",
        "    target_size=(IMAGE_SIZE, IMAGE_SIZE),\n",
        "    batch_size=BATCH_SIZE, \n",
        "    subset='validation',\n",
        "    class_mode= 'categorical')\n",
        "\n",
        "#Menampilkan bentuk dari masing-masing dataset\n",
        "for image_batch, label_batch in train_generator:\n",
        "  break\n",
        "print(\"Bentuk array dari dataset train (pelatihan) adalah:\", image_batch.shape,label_batch.shape)\n",
        "for image_batch, label_batch in val_generator:\n",
        "  break\n",
        "print(\"Bentuk array dari dataset validation (validasi) adalah:\", image_batch.shape,label_batch.shape)"
      ],
      "execution_count": 3,
      "outputs": [
        {
          "output_type": "stream",
          "text": [
            "Found 308 images belonging to 5 classes.\n",
            "Found 75 images belonging to 5 classes.\n",
            "Bentuk array dari dataset train (pelatihan) adalah: (128, 224, 224, 3) (128, 5)\n",
            "Bentuk array dari dataset validation (validasi) adalah: (75, 224, 224, 3) (75, 5)\n"
          ],
          "name": "stdout"
        }
      ]
    },
    {
      "cell_type": "markdown",
      "metadata": {
        "id": "fJkyzMqvMjyp"
      },
      "source": [
        "# Menyimpan label"
      ]
    },
    {
      "cell_type": "code",
      "metadata": {
        "id": "zuiWFi8gyryf",
        "outputId": "ae7e67b6-81bc-44ac-c11e-00530eb4d957",
        "colab": {
          "base_uri": "https://localhost:8080/",
          "height": 34
        }
      },
      "source": [
        "\n",
        "print (train_generator.class_indices)\n",
        "\n",
        "labels_txt = '\\n'.join(sorted(train_generator.class_indices.keys()))\n",
        "\n",
        "with open('labels.txt', 'w') as f:\n",
        "  f.write(labels_txt)"
      ],
      "execution_count": 4,
      "outputs": [
        {
          "output_type": "stream",
          "text": [
            "{'Bulging_eyes': 0, 'Crossed_eyes': 1, 'Glaucoma': 2, 'Uveitis': 3, 'cataract': 4}\n"
          ],
          "name": "stdout"
        }
      ]
    },
    {
      "cell_type": "code",
      "metadata": {
        "id": "auIaOCxgyguD",
        "outputId": "d35279d6-a406-454a-961b-44807219ca97",
        "colab": {
          "base_uri": "https://localhost:8080/",
          "height": 102
        }
      },
      "source": [
        "!cat labels.txt"
      ],
      "execution_count": 5,
      "outputs": [
        {
          "output_type": "stream",
          "text": [
            "Bulging_eyes\n",
            "Crossed_eyes\n",
            "Glaucoma\n",
            "Uveitis\n",
            "cataract"
          ],
          "name": "stdout"
        }
      ]
    },
    {
      "cell_type": "markdown",
      "metadata": {
        "id": "mdKpWZTBMwSb"
      },
      "source": [
        "# Membuat model CNN"
      ]
    },
    {
      "cell_type": "code",
      "metadata": {
        "id": "zrQKX9HVzbdY",
        "outputId": "74b8a41f-4252-42c7-f7e1-a308d218fb8a",
        "colab": {
          "base_uri": "https://localhost:8080/",
          "height": 1000
        }
      },
      "source": [
        "IMG_SHAPE = (224, 224, 3)\n",
        "# Membuat model dasar (base model) dari pre-trained model MobileNet\n",
        "base_model = tf.keras.applications.MobileNet(input_shape=IMG_SHAPE,\n",
        "                                              include_top=False, \n",
        "                                              weights='imagenet')\n",
        "\n",
        "base_model.trainable = False\n",
        "base_model.summary()"
      ],
      "execution_count": 6,
      "outputs": [
        {
          "output_type": "stream",
          "text": [
            "Downloading data from https://storage.googleapis.com/tensorflow/keras-applications/mobilenet/mobilenet_1_0_224_tf_no_top.h5\n",
            "17227776/17225924 [==============================] - 0s 0us/step\n",
            "Model: \"mobilenet_1.00_224\"\n",
            "_________________________________________________________________\n",
            "Layer (type)                 Output Shape              Param #   \n",
            "=================================================================\n",
            "input_1 (InputLayer)         [(None, 224, 224, 3)]     0         \n",
            "_________________________________________________________________\n",
            "conv1_pad (ZeroPadding2D)    (None, 225, 225, 3)       0         \n",
            "_________________________________________________________________\n",
            "conv1 (Conv2D)               (None, 112, 112, 32)      864       \n",
            "_________________________________________________________________\n",
            "conv1_bn (BatchNormalization (None, 112, 112, 32)      128       \n",
            "_________________________________________________________________\n",
            "conv1_relu (ReLU)            (None, 112, 112, 32)      0         \n",
            "_________________________________________________________________\n",
            "conv_dw_1 (DepthwiseConv2D)  (None, 112, 112, 32)      288       \n",
            "_________________________________________________________________\n",
            "conv_dw_1_bn (BatchNormaliza (None, 112, 112, 32)      128       \n",
            "_________________________________________________________________\n",
            "conv_dw_1_relu (ReLU)        (None, 112, 112, 32)      0         \n",
            "_________________________________________________________________\n",
            "conv_pw_1 (Conv2D)           (None, 112, 112, 64)      2048      \n",
            "_________________________________________________________________\n",
            "conv_pw_1_bn (BatchNormaliza (None, 112, 112, 64)      256       \n",
            "_________________________________________________________________\n",
            "conv_pw_1_relu (ReLU)        (None, 112, 112, 64)      0         \n",
            "_________________________________________________________________\n",
            "conv_pad_2 (ZeroPadding2D)   (None, 113, 113, 64)      0         \n",
            "_________________________________________________________________\n",
            "conv_dw_2 (DepthwiseConv2D)  (None, 56, 56, 64)        576       \n",
            "_________________________________________________________________\n",
            "conv_dw_2_bn (BatchNormaliza (None, 56, 56, 64)        256       \n",
            "_________________________________________________________________\n",
            "conv_dw_2_relu (ReLU)        (None, 56, 56, 64)        0         \n",
            "_________________________________________________________________\n",
            "conv_pw_2 (Conv2D)           (None, 56, 56, 128)       8192      \n",
            "_________________________________________________________________\n",
            "conv_pw_2_bn (BatchNormaliza (None, 56, 56, 128)       512       \n",
            "_________________________________________________________________\n",
            "conv_pw_2_relu (ReLU)        (None, 56, 56, 128)       0         \n",
            "_________________________________________________________________\n",
            "conv_dw_3 (DepthwiseConv2D)  (None, 56, 56, 128)       1152      \n",
            "_________________________________________________________________\n",
            "conv_dw_3_bn (BatchNormaliza (None, 56, 56, 128)       512       \n",
            "_________________________________________________________________\n",
            "conv_dw_3_relu (ReLU)        (None, 56, 56, 128)       0         \n",
            "_________________________________________________________________\n",
            "conv_pw_3 (Conv2D)           (None, 56, 56, 128)       16384     \n",
            "_________________________________________________________________\n",
            "conv_pw_3_bn (BatchNormaliza (None, 56, 56, 128)       512       \n",
            "_________________________________________________________________\n",
            "conv_pw_3_relu (ReLU)        (None, 56, 56, 128)       0         \n",
            "_________________________________________________________________\n",
            "conv_pad_4 (ZeroPadding2D)   (None, 57, 57, 128)       0         \n",
            "_________________________________________________________________\n",
            "conv_dw_4 (DepthwiseConv2D)  (None, 28, 28, 128)       1152      \n",
            "_________________________________________________________________\n",
            "conv_dw_4_bn (BatchNormaliza (None, 28, 28, 128)       512       \n",
            "_________________________________________________________________\n",
            "conv_dw_4_relu (ReLU)        (None, 28, 28, 128)       0         \n",
            "_________________________________________________________________\n",
            "conv_pw_4 (Conv2D)           (None, 28, 28, 256)       32768     \n",
            "_________________________________________________________________\n",
            "conv_pw_4_bn (BatchNormaliza (None, 28, 28, 256)       1024      \n",
            "_________________________________________________________________\n",
            "conv_pw_4_relu (ReLU)        (None, 28, 28, 256)       0         \n",
            "_________________________________________________________________\n",
            "conv_dw_5 (DepthwiseConv2D)  (None, 28, 28, 256)       2304      \n",
            "_________________________________________________________________\n",
            "conv_dw_5_bn (BatchNormaliza (None, 28, 28, 256)       1024      \n",
            "_________________________________________________________________\n",
            "conv_dw_5_relu (ReLU)        (None, 28, 28, 256)       0         \n",
            "_________________________________________________________________\n",
            "conv_pw_5 (Conv2D)           (None, 28, 28, 256)       65536     \n",
            "_________________________________________________________________\n",
            "conv_pw_5_bn (BatchNormaliza (None, 28, 28, 256)       1024      \n",
            "_________________________________________________________________\n",
            "conv_pw_5_relu (ReLU)        (None, 28, 28, 256)       0         \n",
            "_________________________________________________________________\n",
            "conv_pad_6 (ZeroPadding2D)   (None, 29, 29, 256)       0         \n",
            "_________________________________________________________________\n",
            "conv_dw_6 (DepthwiseConv2D)  (None, 14, 14, 256)       2304      \n",
            "_________________________________________________________________\n",
            "conv_dw_6_bn (BatchNormaliza (None, 14, 14, 256)       1024      \n",
            "_________________________________________________________________\n",
            "conv_dw_6_relu (ReLU)        (None, 14, 14, 256)       0         \n",
            "_________________________________________________________________\n",
            "conv_pw_6 (Conv2D)           (None, 14, 14, 512)       131072    \n",
            "_________________________________________________________________\n",
            "conv_pw_6_bn (BatchNormaliza (None, 14, 14, 512)       2048      \n",
            "_________________________________________________________________\n",
            "conv_pw_6_relu (ReLU)        (None, 14, 14, 512)       0         \n",
            "_________________________________________________________________\n",
            "conv_dw_7 (DepthwiseConv2D)  (None, 14, 14, 512)       4608      \n",
            "_________________________________________________________________\n",
            "conv_dw_7_bn (BatchNormaliza (None, 14, 14, 512)       2048      \n",
            "_________________________________________________________________\n",
            "conv_dw_7_relu (ReLU)        (None, 14, 14, 512)       0         \n",
            "_________________________________________________________________\n",
            "conv_pw_7 (Conv2D)           (None, 14, 14, 512)       262144    \n",
            "_________________________________________________________________\n",
            "conv_pw_7_bn (BatchNormaliza (None, 14, 14, 512)       2048      \n",
            "_________________________________________________________________\n",
            "conv_pw_7_relu (ReLU)        (None, 14, 14, 512)       0         \n",
            "_________________________________________________________________\n",
            "conv_dw_8 (DepthwiseConv2D)  (None, 14, 14, 512)       4608      \n",
            "_________________________________________________________________\n",
            "conv_dw_8_bn (BatchNormaliza (None, 14, 14, 512)       2048      \n",
            "_________________________________________________________________\n",
            "conv_dw_8_relu (ReLU)        (None, 14, 14, 512)       0         \n",
            "_________________________________________________________________\n",
            "conv_pw_8 (Conv2D)           (None, 14, 14, 512)       262144    \n",
            "_________________________________________________________________\n",
            "conv_pw_8_bn (BatchNormaliza (None, 14, 14, 512)       2048      \n",
            "_________________________________________________________________\n",
            "conv_pw_8_relu (ReLU)        (None, 14, 14, 512)       0         \n",
            "_________________________________________________________________\n",
            "conv_dw_9 (DepthwiseConv2D)  (None, 14, 14, 512)       4608      \n",
            "_________________________________________________________________\n",
            "conv_dw_9_bn (BatchNormaliza (None, 14, 14, 512)       2048      \n",
            "_________________________________________________________________\n",
            "conv_dw_9_relu (ReLU)        (None, 14, 14, 512)       0         \n",
            "_________________________________________________________________\n",
            "conv_pw_9 (Conv2D)           (None, 14, 14, 512)       262144    \n",
            "_________________________________________________________________\n",
            "conv_pw_9_bn (BatchNormaliza (None, 14, 14, 512)       2048      \n",
            "_________________________________________________________________\n",
            "conv_pw_9_relu (ReLU)        (None, 14, 14, 512)       0         \n",
            "_________________________________________________________________\n",
            "conv_dw_10 (DepthwiseConv2D) (None, 14, 14, 512)       4608      \n",
            "_________________________________________________________________\n",
            "conv_dw_10_bn (BatchNormaliz (None, 14, 14, 512)       2048      \n",
            "_________________________________________________________________\n",
            "conv_dw_10_relu (ReLU)       (None, 14, 14, 512)       0         \n",
            "_________________________________________________________________\n",
            "conv_pw_10 (Conv2D)          (None, 14, 14, 512)       262144    \n",
            "_________________________________________________________________\n",
            "conv_pw_10_bn (BatchNormaliz (None, 14, 14, 512)       2048      \n",
            "_________________________________________________________________\n",
            "conv_pw_10_relu (ReLU)       (None, 14, 14, 512)       0         \n",
            "_________________________________________________________________\n",
            "conv_dw_11 (DepthwiseConv2D) (None, 14, 14, 512)       4608      \n",
            "_________________________________________________________________\n",
            "conv_dw_11_bn (BatchNormaliz (None, 14, 14, 512)       2048      \n",
            "_________________________________________________________________\n",
            "conv_dw_11_relu (ReLU)       (None, 14, 14, 512)       0         \n",
            "_________________________________________________________________\n",
            "conv_pw_11 (Conv2D)          (None, 14, 14, 512)       262144    \n",
            "_________________________________________________________________\n",
            "conv_pw_11_bn (BatchNormaliz (None, 14, 14, 512)       2048      \n",
            "_________________________________________________________________\n",
            "conv_pw_11_relu (ReLU)       (None, 14, 14, 512)       0         \n",
            "_________________________________________________________________\n",
            "conv_pad_12 (ZeroPadding2D)  (None, 15, 15, 512)       0         \n",
            "_________________________________________________________________\n",
            "conv_dw_12 (DepthwiseConv2D) (None, 7, 7, 512)         4608      \n",
            "_________________________________________________________________\n",
            "conv_dw_12_bn (BatchNormaliz (None, 7, 7, 512)         2048      \n",
            "_________________________________________________________________\n",
            "conv_dw_12_relu (ReLU)       (None, 7, 7, 512)         0         \n",
            "_________________________________________________________________\n",
            "conv_pw_12 (Conv2D)          (None, 7, 7, 1024)        524288    \n",
            "_________________________________________________________________\n",
            "conv_pw_12_bn (BatchNormaliz (None, 7, 7, 1024)        4096      \n",
            "_________________________________________________________________\n",
            "conv_pw_12_relu (ReLU)       (None, 7, 7, 1024)        0         \n",
            "_________________________________________________________________\n",
            "conv_dw_13 (DepthwiseConv2D) (None, 7, 7, 1024)        9216      \n",
            "_________________________________________________________________\n",
            "conv_dw_13_bn (BatchNormaliz (None, 7, 7, 1024)        4096      \n",
            "_________________________________________________________________\n",
            "conv_dw_13_relu (ReLU)       (None, 7, 7, 1024)        0         \n",
            "_________________________________________________________________\n",
            "conv_pw_13 (Conv2D)          (None, 7, 7, 1024)        1048576   \n",
            "_________________________________________________________________\n",
            "conv_pw_13_bn (BatchNormaliz (None, 7, 7, 1024)        4096      \n",
            "_________________________________________________________________\n",
            "conv_pw_13_relu (ReLU)       (None, 7, 7, 1024)        0         \n",
            "=================================================================\n",
            "Total params: 3,228,864\n",
            "Trainable params: 0\n",
            "Non-trainable params: 3,228,864\n",
            "_________________________________________________________________\n"
          ],
          "name": "stdout"
        }
      ]
    },
    {
      "cell_type": "code",
      "metadata": {
        "id": "m-JJL-gNzo4F"
      },
      "source": [
        "import keras\n",
        "from keras import backend as K\n",
        "from keras.models import Sequential\n",
        "from keras import layers\n",
        "from keras.utils.np_utils import to_categorical\n",
        "\n",
        "from sklearn.model_selection import train_test_split"
      ],
      "execution_count": 7,
      "outputs": []
    },
    {
      "cell_type": "code",
      "metadata": {
        "id": "k8kb4gw2zko6",
        "outputId": "de2bcaef-dd99-4293-cd32-d47529de2487",
        "colab": {
          "base_uri": "https://localhost:8080/",
          "height": 289
        }
      },
      "source": [
        "model = tf.keras.Sequential([\n",
        "    base_model,    \n",
        "    tf.keras.layers.Conv2D(32, 3, activation='relu'),\n",
        "    #tf.keras.layers.Dropout(0.2),\n",
        "    tf.keras.layers.GlobalAveragePooling2D(),\n",
        "    tf.keras.layers.Dense(5, activation='softmax')\n",
        "]\n",
        ")\n",
        "\n",
        "model.compile(\"adam\",loss=\"categorical_crossentropy\",metrics=[\"acc\"])\n",
        "model.summary()"
      ],
      "execution_count": 8,
      "outputs": [
        {
          "output_type": "stream",
          "text": [
            "Model: \"sequential\"\n",
            "_________________________________________________________________\n",
            "Layer (type)                 Output Shape              Param #   \n",
            "=================================================================\n",
            "mobilenet_1.00_224 (Function (None, 7, 7, 1024)        3228864   \n",
            "_________________________________________________________________\n",
            "conv2d (Conv2D)              (None, 5, 5, 32)          294944    \n",
            "_________________________________________________________________\n",
            "global_average_pooling2d (Gl (None, 32)                0         \n",
            "_________________________________________________________________\n",
            "dense (Dense)                (None, 5)                 165       \n",
            "=================================================================\n",
            "Total params: 3,523,973\n",
            "Trainable params: 295,109\n",
            "Non-trainable params: 3,228,864\n",
            "_________________________________________________________________\n"
          ],
          "name": "stdout"
        }
      ]
    },
    {
      "cell_type": "code",
      "metadata": {
        "id": "n4_sPjXeNCSN"
      },
      "source": [
        "Pelatihan"
      ],
      "execution_count": null,
      "outputs": []
    },
    {
      "cell_type": "code",
      "metadata": {
        "id": "B6cYQQ_8z294",
        "outputId": "f997e476-d75f-4195-fbf8-fd48d43af181",
        "colab": {
          "base_uri": "https://localhost:8080/",
          "height": 1000
        }
      },
      "source": [
        "history = model.fit_generator(train_generator, \n",
        "                    epochs=100, \n",
        "                    validation_data=val_generator)"
      ],
      "execution_count": 9,
      "outputs": [
        {
          "output_type": "stream",
          "text": [
            "WARNING:tensorflow:From <ipython-input-9-67338b47e58e>:3: Model.fit_generator (from tensorflow.python.keras.engine.training) is deprecated and will be removed in a future version.\n",
            "Instructions for updating:\n",
            "Please use Model.fit, which supports generators.\n",
            "Epoch 1/100\n",
            "3/3 [==============================] - 28s 9s/step - loss: 7.1196 - acc: 0.2825 - val_loss: 5.8046 - val_acc: 0.2400\n",
            "Epoch 2/100\n",
            "3/3 [==============================] - 1s 370ms/step - loss: 5.8292 - acc: 0.4578 - val_loss: 5.6428 - val_acc: 0.4667\n",
            "Epoch 3/100\n",
            "3/3 [==============================] - 1s 281ms/step - loss: 3.8529 - acc: 0.5162 - val_loss: 1.7866 - val_acc: 0.6133\n",
            "Epoch 4/100\n",
            "3/3 [==============================] - 1s 246ms/step - loss: 1.6844 - acc: 0.5357 - val_loss: 1.7211 - val_acc: 0.4000\n",
            "Epoch 5/100\n",
            "3/3 [==============================] - 1s 339ms/step - loss: 1.2646 - acc: 0.5000 - val_loss: 1.1949 - val_acc: 0.5867\n",
            "Epoch 6/100\n",
            "3/3 [==============================] - 1s 239ms/step - loss: 1.2133 - acc: 0.5682 - val_loss: 1.2478 - val_acc: 0.5733\n",
            "Epoch 7/100\n",
            "3/3 [==============================] - 1s 333ms/step - loss: 1.2366 - acc: 0.5519 - val_loss: 1.2159 - val_acc: 0.6267\n",
            "Epoch 8/100\n",
            "3/3 [==============================] - 1s 236ms/step - loss: 1.1936 - acc: 0.6364 - val_loss: 1.1425 - val_acc: 0.6267\n",
            "Epoch 9/100\n",
            "3/3 [==============================] - 1s 252ms/step - loss: 1.1077 - acc: 0.6169 - val_loss: 1.0732 - val_acc: 0.5333\n",
            "Epoch 10/100\n",
            "3/3 [==============================] - 1s 234ms/step - loss: 1.0623 - acc: 0.5584 - val_loss: 1.0669 - val_acc: 0.5600\n",
            "Epoch 11/100\n",
            "3/3 [==============================] - 1s 248ms/step - loss: 1.0031 - acc: 0.5942 - val_loss: 1.1008 - val_acc: 0.6000\n",
            "Epoch 12/100\n",
            "3/3 [==============================] - 1s 251ms/step - loss: 0.9834 - acc: 0.5844 - val_loss: 1.1364 - val_acc: 0.6133\n",
            "Epoch 13/100\n",
            "3/3 [==============================] - 1s 250ms/step - loss: 0.9583 - acc: 0.5812 - val_loss: 1.0843 - val_acc: 0.6133\n",
            "Epoch 14/100\n",
            "3/3 [==============================] - 1s 251ms/step - loss: 0.8987 - acc: 0.6071 - val_loss: 1.0287 - val_acc: 0.5867\n",
            "Epoch 15/100\n",
            "3/3 [==============================] - 1s 247ms/step - loss: 0.8573 - acc: 0.6461 - val_loss: 0.9972 - val_acc: 0.6000\n",
            "Epoch 16/100\n",
            "3/3 [==============================] - 1s 252ms/step - loss: 0.8223 - acc: 0.6396 - val_loss: 0.9847 - val_acc: 0.5867\n",
            "Epoch 17/100\n",
            "3/3 [==============================] - 1s 236ms/step - loss: 0.7828 - acc: 0.6396 - val_loss: 1.0341 - val_acc: 0.6133\n",
            "Epoch 18/100\n",
            "3/3 [==============================] - 1s 327ms/step - loss: 0.7532 - acc: 0.6104 - val_loss: 1.0599 - val_acc: 0.6133\n",
            "Epoch 19/100\n",
            "3/3 [==============================] - 1s 327ms/step - loss: 0.7225 - acc: 0.6201 - val_loss: 0.9946 - val_acc: 0.6000\n",
            "Epoch 20/100\n",
            "3/3 [==============================] - 1s 247ms/step - loss: 0.6921 - acc: 0.6429 - val_loss: 1.0685 - val_acc: 0.5333\n",
            "Epoch 21/100\n",
            "3/3 [==============================] - 1s 326ms/step - loss: 0.6607 - acc: 0.6461 - val_loss: 1.0039 - val_acc: 0.6000\n",
            "Epoch 22/100\n",
            "3/3 [==============================] - 1s 241ms/step - loss: 0.6247 - acc: 0.6396 - val_loss: 1.0762 - val_acc: 0.6000\n",
            "Epoch 23/100\n",
            "3/3 [==============================] - 1s 250ms/step - loss: 0.5957 - acc: 0.6364 - val_loss: 1.1390 - val_acc: 0.6000\n",
            "Epoch 24/100\n",
            "3/3 [==============================] - 1s 323ms/step - loss: 0.5697 - acc: 0.6429 - val_loss: 1.1103 - val_acc: 0.6000\n",
            "Epoch 25/100\n",
            "3/3 [==============================] - 1s 225ms/step - loss: 0.5434 - acc: 0.6591 - val_loss: 1.0869 - val_acc: 0.6000\n",
            "Epoch 26/100\n",
            "3/3 [==============================] - 1s 260ms/step - loss: 0.5199 - acc: 0.6753 - val_loss: 1.0421 - val_acc: 0.6000\n",
            "Epoch 27/100\n",
            "3/3 [==============================] - 1s 239ms/step - loss: 0.4967 - acc: 0.6883 - val_loss: 1.0578 - val_acc: 0.6133\n",
            "Epoch 28/100\n",
            "3/3 [==============================] - 1s 238ms/step - loss: 0.4747 - acc: 0.7045 - val_loss: 1.1357 - val_acc: 0.6133\n",
            "Epoch 29/100\n",
            "3/3 [==============================] - 1s 247ms/step - loss: 0.4536 - acc: 0.7208 - val_loss: 1.1112 - val_acc: 0.6133\n",
            "Epoch 30/100\n",
            "3/3 [==============================] - 1s 322ms/step - loss: 0.4310 - acc: 0.7500 - val_loss: 1.0536 - val_acc: 0.6267\n",
            "Epoch 31/100\n",
            "3/3 [==============================] - 1s 325ms/step - loss: 0.4142 - acc: 0.7857 - val_loss: 1.0976 - val_acc: 0.6133\n",
            "Epoch 32/100\n",
            "3/3 [==============================] - 1s 249ms/step - loss: 0.3975 - acc: 0.7987 - val_loss: 1.0649 - val_acc: 0.6400\n",
            "Epoch 33/100\n",
            "3/3 [==============================] - 1s 322ms/step - loss: 0.3792 - acc: 0.8182 - val_loss: 1.1150 - val_acc: 0.6400\n",
            "Epoch 34/100\n",
            "3/3 [==============================] - 1s 233ms/step - loss: 0.3650 - acc: 0.8214 - val_loss: 1.1075 - val_acc: 0.6400\n",
            "Epoch 35/100\n",
            "3/3 [==============================] - 1s 254ms/step - loss: 0.3442 - acc: 0.8474 - val_loss: 1.0952 - val_acc: 0.6400\n",
            "Epoch 36/100\n",
            "3/3 [==============================] - 1s 241ms/step - loss: 0.3280 - acc: 0.8506 - val_loss: 1.1217 - val_acc: 0.6400\n",
            "Epoch 37/100\n",
            "3/3 [==============================] - 1s 232ms/step - loss: 0.3121 - acc: 0.8506 - val_loss: 1.1220 - val_acc: 0.6400\n",
            "Epoch 38/100\n",
            "3/3 [==============================] - 1s 327ms/step - loss: 0.2932 - acc: 0.8539 - val_loss: 1.1222 - val_acc: 0.6400\n",
            "Epoch 39/100\n",
            "3/3 [==============================] - 1s 253ms/step - loss: 0.2769 - acc: 0.8539 - val_loss: 1.1079 - val_acc: 0.6533\n",
            "Epoch 40/100\n",
            "3/3 [==============================] - 1s 330ms/step - loss: 0.2573 - acc: 0.8539 - val_loss: 1.1303 - val_acc: 0.6400\n",
            "Epoch 41/100\n",
            "3/3 [==============================] - 1s 245ms/step - loss: 0.2413 - acc: 0.8831 - val_loss: 1.1265 - val_acc: 0.6667\n",
            "Epoch 42/100\n",
            "3/3 [==============================] - 1s 258ms/step - loss: 0.2197 - acc: 0.8994 - val_loss: 1.1595 - val_acc: 0.6667\n",
            "Epoch 43/100\n",
            "3/3 [==============================] - 1s 249ms/step - loss: 0.2030 - acc: 0.9286 - val_loss: 1.1219 - val_acc: 0.6800\n",
            "Epoch 44/100\n",
            "3/3 [==============================] - 1s 257ms/step - loss: 0.1843 - acc: 0.9578 - val_loss: 1.1153 - val_acc: 0.6667\n",
            "Epoch 45/100\n",
            "3/3 [==============================] - 1s 234ms/step - loss: 0.1678 - acc: 0.9643 - val_loss: 1.1024 - val_acc: 0.6800\n",
            "Epoch 46/100\n",
            "3/3 [==============================] - 1s 251ms/step - loss: 0.1496 - acc: 0.9838 - val_loss: 1.1221 - val_acc: 0.6800\n",
            "Epoch 47/100\n",
            "3/3 [==============================] - 1s 326ms/step - loss: 0.1312 - acc: 0.9903 - val_loss: 1.1055 - val_acc: 0.7067\n",
            "Epoch 48/100\n",
            "3/3 [==============================] - 1s 228ms/step - loss: 0.1173 - acc: 0.9903 - val_loss: 1.1144 - val_acc: 0.7067\n",
            "Epoch 49/100\n",
            "3/3 [==============================] - 1s 243ms/step - loss: 0.1039 - acc: 0.9968 - val_loss: 1.1102 - val_acc: 0.6933\n",
            "Epoch 50/100\n",
            "3/3 [==============================] - 1s 324ms/step - loss: 0.0916 - acc: 0.9935 - val_loss: 1.1278 - val_acc: 0.7067\n",
            "Epoch 51/100\n",
            "3/3 [==============================] - 1s 324ms/step - loss: 0.0826 - acc: 0.9968 - val_loss: 1.1650 - val_acc: 0.6667\n",
            "Epoch 52/100\n",
            "3/3 [==============================] - 1s 247ms/step - loss: 0.0745 - acc: 0.9968 - val_loss: 1.1288 - val_acc: 0.6933\n",
            "Epoch 53/100\n",
            "3/3 [==============================] - 1s 325ms/step - loss: 0.0672 - acc: 0.9968 - val_loss: 1.1513 - val_acc: 0.6533\n",
            "Epoch 54/100\n",
            "3/3 [==============================] - 1s 235ms/step - loss: 0.0607 - acc: 1.0000 - val_loss: 1.2001 - val_acc: 0.6667\n",
            "Epoch 55/100\n",
            "3/3 [==============================] - 1s 238ms/step - loss: 0.0547 - acc: 1.0000 - val_loss: 1.1685 - val_acc: 0.6800\n",
            "Epoch 56/100\n",
            "3/3 [==============================] - 1s 323ms/step - loss: 0.0487 - acc: 1.0000 - val_loss: 1.1743 - val_acc: 0.6667\n",
            "Epoch 57/100\n",
            "3/3 [==============================] - 1s 221ms/step - loss: 0.0448 - acc: 1.0000 - val_loss: 1.1967 - val_acc: 0.6533\n",
            "Epoch 58/100\n",
            "3/3 [==============================] - 1s 217ms/step - loss: 0.0412 - acc: 1.0000 - val_loss: 1.2012 - val_acc: 0.6533\n",
            "Epoch 59/100\n",
            "3/3 [==============================] - 1s 216ms/step - loss: 0.0381 - acc: 1.0000 - val_loss: 1.2069 - val_acc: 0.6533\n",
            "Epoch 60/100\n",
            "3/3 [==============================] - 1s 222ms/step - loss: 0.0351 - acc: 1.0000 - val_loss: 1.2199 - val_acc: 0.6533\n",
            "Epoch 61/100\n",
            "3/3 [==============================] - 1s 248ms/step - loss: 0.0332 - acc: 1.0000 - val_loss: 1.2193 - val_acc: 0.6800\n",
            "Epoch 62/100\n",
            "3/3 [==============================] - 1s 326ms/step - loss: 0.0309 - acc: 1.0000 - val_loss: 1.2505 - val_acc: 0.6667\n",
            "Epoch 63/100\n",
            "3/3 [==============================] - 1s 242ms/step - loss: 0.0291 - acc: 1.0000 - val_loss: 1.2396 - val_acc: 0.6533\n",
            "Epoch 64/100\n",
            "3/3 [==============================] - 1s 225ms/step - loss: 0.0273 - acc: 1.0000 - val_loss: 1.2336 - val_acc: 0.6533\n",
            "Epoch 65/100\n",
            "3/3 [==============================] - 1s 244ms/step - loss: 0.0254 - acc: 1.0000 - val_loss: 1.2500 - val_acc: 0.6533\n",
            "Epoch 66/100\n",
            "3/3 [==============================] - 1s 322ms/step - loss: 0.0238 - acc: 1.0000 - val_loss: 1.2648 - val_acc: 0.6533\n",
            "Epoch 67/100\n",
            "3/3 [==============================] - 1s 241ms/step - loss: 0.0227 - acc: 1.0000 - val_loss: 1.2644 - val_acc: 0.6533\n",
            "Epoch 68/100\n",
            "3/3 [==============================] - 1s 322ms/step - loss: 0.0215 - acc: 1.0000 - val_loss: 1.2665 - val_acc: 0.6533\n",
            "Epoch 69/100\n",
            "3/3 [==============================] - 1s 240ms/step - loss: 0.0207 - acc: 1.0000 - val_loss: 1.2775 - val_acc: 0.6533\n",
            "Epoch 70/100\n",
            "3/3 [==============================] - 1s 218ms/step - loss: 0.0197 - acc: 1.0000 - val_loss: 1.2925 - val_acc: 0.6533\n",
            "Epoch 71/100\n",
            "3/3 [==============================] - 1s 232ms/step - loss: 0.0189 - acc: 1.0000 - val_loss: 1.3052 - val_acc: 0.6533\n",
            "Epoch 72/100\n",
            "3/3 [==============================] - 1s 239ms/step - loss: 0.0181 - acc: 1.0000 - val_loss: 1.2980 - val_acc: 0.6533\n",
            "Epoch 73/100\n",
            "3/3 [==============================] - 1s 247ms/step - loss: 0.0174 - acc: 1.0000 - val_loss: 1.2892 - val_acc: 0.6533\n",
            "Epoch 74/100\n",
            "3/3 [==============================] - 1s 257ms/step - loss: 0.0167 - acc: 1.0000 - val_loss: 1.3062 - val_acc: 0.6667\n",
            "Epoch 75/100\n",
            "3/3 [==============================] - 1s 342ms/step - loss: 0.0160 - acc: 1.0000 - val_loss: 1.3169 - val_acc: 0.6667\n",
            "Epoch 76/100\n",
            "3/3 [==============================] - 1s 248ms/step - loss: 0.0155 - acc: 1.0000 - val_loss: 1.3216 - val_acc: 0.6533\n",
            "Epoch 77/100\n",
            "3/3 [==============================] - 1s 330ms/step - loss: 0.0149 - acc: 1.0000 - val_loss: 1.3213 - val_acc: 0.6533\n",
            "Epoch 78/100\n",
            "3/3 [==============================] - 1s 226ms/step - loss: 0.0144 - acc: 1.0000 - val_loss: 1.3252 - val_acc: 0.6533\n",
            "Epoch 79/100\n",
            "3/3 [==============================] - 1s 229ms/step - loss: 0.0140 - acc: 1.0000 - val_loss: 1.3372 - val_acc: 0.6533\n",
            "Epoch 80/100\n",
            "3/3 [==============================] - 1s 228ms/step - loss: 0.0135 - acc: 1.0000 - val_loss: 1.3527 - val_acc: 0.6667\n",
            "Epoch 81/100\n",
            "3/3 [==============================] - 1s 221ms/step - loss: 0.0131 - acc: 1.0000 - val_loss: 1.3550 - val_acc: 0.6667\n",
            "Epoch 82/100\n",
            "3/3 [==============================] - 1s 218ms/step - loss: 0.0127 - acc: 1.0000 - val_loss: 1.3524 - val_acc: 0.6667\n",
            "Epoch 83/100\n",
            "3/3 [==============================] - 1s 226ms/step - loss: 0.0123 - acc: 1.0000 - val_loss: 1.3490 - val_acc: 0.6533\n",
            "Epoch 84/100\n",
            "3/3 [==============================] - 1s 216ms/step - loss: 0.0119 - acc: 1.0000 - val_loss: 1.3439 - val_acc: 0.6533\n",
            "Epoch 85/100\n",
            "3/3 [==============================] - 1s 320ms/step - loss: 0.0117 - acc: 1.0000 - val_loss: 1.3407 - val_acc: 0.6533\n",
            "Epoch 86/100\n",
            "3/3 [==============================] - 1s 317ms/step - loss: 0.0113 - acc: 1.0000 - val_loss: 1.3514 - val_acc: 0.6533\n",
            "Epoch 87/100\n",
            "3/3 [==============================] - 1s 228ms/step - loss: 0.0109 - acc: 1.0000 - val_loss: 1.3689 - val_acc: 0.6667\n",
            "Epoch 88/100\n",
            "3/3 [==============================] - 1s 221ms/step - loss: 0.0107 - acc: 1.0000 - val_loss: 1.3778 - val_acc: 0.6667\n",
            "Epoch 89/100\n",
            "3/3 [==============================] - 1s 218ms/step - loss: 0.0104 - acc: 1.0000 - val_loss: 1.3740 - val_acc: 0.6667\n",
            "Epoch 90/100\n",
            "3/3 [==============================] - 1s 228ms/step - loss: 0.0101 - acc: 1.0000 - val_loss: 1.3665 - val_acc: 0.6533\n",
            "Epoch 91/100\n",
            "3/3 [==============================] - 1s 230ms/step - loss: 0.0099 - acc: 1.0000 - val_loss: 1.3723 - val_acc: 0.6533\n",
            "Epoch 92/100\n",
            "3/3 [==============================] - 1s 325ms/step - loss: 0.0096 - acc: 1.0000 - val_loss: 1.3845 - val_acc: 0.6667\n",
            "Epoch 93/100\n",
            "3/3 [==============================] - 1s 222ms/step - loss: 0.0094 - acc: 1.0000 - val_loss: 1.3900 - val_acc: 0.6667\n",
            "Epoch 94/100\n",
            "3/3 [==============================] - 1s 316ms/step - loss: 0.0091 - acc: 1.0000 - val_loss: 1.3874 - val_acc: 0.6667\n",
            "Epoch 95/100\n",
            "3/3 [==============================] - 1s 227ms/step - loss: 0.0089 - acc: 1.0000 - val_loss: 1.3856 - val_acc: 0.6667\n",
            "Epoch 96/100\n",
            "3/3 [==============================] - 1s 247ms/step - loss: 0.0088 - acc: 1.0000 - val_loss: 1.3898 - val_acc: 0.6533\n",
            "Epoch 97/100\n",
            "3/3 [==============================] - 1s 235ms/step - loss: 0.0086 - acc: 1.0000 - val_loss: 1.3990 - val_acc: 0.6667\n",
            "Epoch 98/100\n",
            "3/3 [==============================] - 1s 322ms/step - loss: 0.0083 - acc: 1.0000 - val_loss: 1.4033 - val_acc: 0.6667\n",
            "Epoch 99/100\n",
            "3/3 [==============================] - 1s 219ms/step - loss: 0.0082 - acc: 1.0000 - val_loss: 1.4052 - val_acc: 0.6667\n",
            "Epoch 100/100\n",
            "3/3 [==============================] - 1s 220ms/step - loss: 0.0080 - acc: 1.0000 - val_loss: 1.4070 - val_acc: 0.6667\n"
          ],
          "name": "stdout"
        }
      ]
    },
    {
      "cell_type": "markdown",
      "metadata": {
        "id": "8iN51d-xNJhB"
      },
      "source": [
        "# Menampilkan Hasil Pelatihan"
      ]
    },
    {
      "cell_type": "code",
      "metadata": {
        "id": "dK0JIgi2LOVi",
        "outputId": "d57ffdf6-764b-4624-bfed-c9863bf70995",
        "colab": {
          "base_uri": "https://localhost:8080/",
          "height": 513
        }
      },
      "source": [
        "plt.plot(history.history[\"acc\"],label=\"Akurasi Pelatihan\")\n",
        "plt.plot(history.history[\"val_acc\"],label=\"Validasi Akurasi\")\n",
        "plt.legend()\n",
        "plt.show()\n",
        "\n",
        "plt.plot(history.history[\"loss\"],label=\"Kesalahan Pelatihan\")\n",
        "plt.plot(history.history[\"val_loss\"],label=\"Validasi Kesalahan\")\n",
        "plt.legend()\n",
        "plt.show()"
      ],
      "execution_count": 10,
      "outputs": [
        {
          "output_type": "display_data",
          "data": {
            "image/png": "[encoded data removed]",
            "text/plain": [
              "<Figure size 432x288 with 1 Axes>"
            ]
          },
          "metadata": {
            "tags": [],
            "needs_background": "light"
          }
        },
        {
          "output_type": "display_data",
          "data": {
            "image/png": "[encoded data removed]",
            "text/plain": [
              "<Figure size 432x288 with 1 Axes>"
            ]
          },
          "metadata": {
            "tags": [],
            "needs_background": "light"
          }
        }
      ]
    },
    {
      "cell_type": "markdown",
      "metadata": {
        "id": "3nWovNwNNPSS"
      },
      "source": [
        "# Menggunakan Model"
      ]
    },
    {
      "cell_type": "code",
      "metadata": {
        "id": "63DCEjBgLYR0",
        "outputId": "a0058a54-95a1-4e2d-8a18-4267312ec4e7",
        "colab": {
          "base_uri": "https://localhost:8080/",
          "height": 34
        }
      },
      "source": [
        "print('Number of trainable variables = {}'.format(len(model.trainable_variables)))"
      ],
      "execution_count": 11,
      "outputs": [
        {
          "output_type": "stream",
          "text": [
            "Number of trainable variables = 4\n"
          ],
          "name": "stdout"
        }
      ]
    },
    {
      "cell_type": "code",
      "metadata": {
        "id": "fsFCpQoBLr5y",
        "outputId": "0cd3dd95-075d-4429-b3d3-6fd23154b316",
        "colab": {
          "base_uri": "https://localhost:8080/",
          "height": 68
        }
      },
      "source": [
        "#Prediksi Label Validasi dengan Pelatihan\n",
        "n = 50\n",
        "input_image = image_batch[n][np.newaxis,...]\n",
        "print(\"Labelnya adalah: \", label_batch[n])\n",
        "\n",
        "predictions = model.predict(input_image)\n",
        "print(\"Prediksinya adalah\",predictions[0])"
      ],
      "execution_count": 12,
      "outputs": [
        {
          "output_type": "stream",
          "text": [
            "Labelnya adalah:  [0. 1. 0. 0. 0.]\n",
            "Prediksinya adalah [1.06618345e-05 9.96355057e-01 3.58456583e-03 4.52067216e-05\n",
            " 4.57102760e-06]\n"
          ],
          "name": "stdout"
        }
      ]
    }
  ]
}